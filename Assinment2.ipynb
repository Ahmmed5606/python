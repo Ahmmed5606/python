{
 "cells": [
  {
   "cell_type": "raw",
   "id": "789af288-b88f-45cd-81ab-953604d9fb5f",
   "metadata": {},
   "source": [
    "# DATA STRUCTURE QUESTION AND ANSWERS"
   ]
  },
  {
   "cell_type": "code",
   "execution_count": null,
   "id": "27d5c672-ad0c-4d3a-9d76-1ea626953ac3",
   "metadata": {},
   "outputs": [],
   "source": []
  },
  {
   "cell_type": "raw",
   "id": "850ab6d3-89aa-4091-970f-08bda2f8e317",
   "metadata": {},
   "source": [
    "1)What are data structures, and why are they important?\n",
    ">> Data structures are fundamental to computer science, providing organized ways to store and manage data within a program\n",
    ">> They are crucial for efficient data access, manipulation, and retrieval, impacting a program's performance, readability, and scalability.\n",
    " \n",
    "IMPORTANS OF DATA STRUCTURE\n",
    "Efficient Data Management:\n",
    "Data structures optimize how data is organized and accessed, allowing programs to perform operations like searching, sorting, and updating data quickly and efficiently\n",
    "\n",
    "Performance:\n",
    "Properly chosen data structures can dramatically improve the speed and efficiency of a program. \n",
    "\n",
    "Code Clarity and Readability:\n",
    "Well-data structure allows for easier understanding and maintenance of code.\n",
    "\n",
    "Scalability:\n",
    "Efficient data structures are crucial for handling large datasets and complex systems.\n",
    "\n",
    "Foundation for Algorithms:\n",
    "Many algorithms are built upon data structures, making them essential for developing efficient software.\n",
    "\n",
    "Common Data Structures:\n",
    "\n",
    "Arrays: A collection of elements stored in contiguous memory locations. \n",
    "\n",
    "Linked Lists: Elements are stored in separate memory locations, connected by pointers. \n",
    "\n",
    "Stacks: A LIFO (Last-In, First-Out) data structure. \n",
    "\n",
    "Queues: A FIFO (First-In, First-Out) data structure. \n",
    "\n",
    "Trees: Hierarchical data structures with a root, nodes, and leaves. \n",
    "\n",
    "Graphs: A network of nodes (vertices) connected by edges. \n",
    "\n",
    "Hash Tables: Use a hash function to map keys to values for fast access. "
   ]
  },
  {
   "cell_type": "raw",
   "id": "81fe6eda-c6cd-4222-9b0b-d7b7be34aeca",
   "metadata": {},
   "source": [
    "2)Explain the difference between mutable and immutable data types with examples?\n",
    "\n",
    ">> In programming, mutable data types can be changed after they are created, while immutable data types cannot be modified once initialized. Examples of mutable types include lists and dictionaries, while immutable types include strings and tuples.\n",
    "\n",
    ">>Mutable Data Types:\n",
    "  Definition: Mutable data types allow you to modify their contents esafter they've been created without creating new objects. \n",
    "\n",
    "example :\n",
    "my_lst = ['ahmmed', 1, 4, 6, 'king']\n",
    "my_list.append(\"fayaz\")\n",
    "my_list\n",
    "['ahmmed', 1, 4, 6, 'king', 'fayaz']\n",
    "my_list[1] = (\"shaik\")\n",
    "my_lisy\n",
    "['ahmmed',\"shaik\", 4, 6, 'king', 'fayaz']\n",
    "\n",
    "Features:\n",
    "> it can modifey after the creation.\n",
    "> the modefication may create a new object or modefye the old object.\n",
    "> it can be more memory efficency in some cases.\n",
    ">it is object oriented programing dinamic data structures.\n",
    "\n",
    "Immutable Data Types:\n",
    "\n",
    "Definition:\n",
    "Immutable data types cannot be changed after their creation. Any attempt to modify them will result in the creation of a new object. \n",
    "\n",
    "Example\n",
    "my_string = \"hello\"\n",
    "my_string =\"w\" # it will through an error\n",
    "new_sting = my_string + \"world\"\n",
    "new_string \n",
    "\"hello world\"\n",
    "my_string\n",
    "\"hello\"\n",
    "\n",
    "Features:\n",
    "> It Cannot be modified after \n",
    "> Modification always creates a new object\n",
    "> Always consumes more memory\n",
    ">Functional programming, data integrity, caching"
   ]
  },
  {
   "cell_type": "raw",
   "id": "450bac02-4990-4218-a86c-5878ef413dc3",
   "metadata": {},
   "source": [
    "3)What are the main differences between lists and tuples in Python?\n",
    "\n",
    " Here is a comparison of the key differences between lists and tuples in Python:\n",
    " Mutability:\n",
    ">> Lists are mutable, which means their elements can be changed after the list is created. \n",
    ">>Tuples, on the other hand, are immutable, and their elements cannot be modified once the tuple is defined.\n",
    "\n",
    "Syntax:\n",
    "Lists are defined using square brackets [], while tuples are defined using parentheses ().\n",
    "\n",
    "Usage:\n",
    ">> Lists are commonly used for collections of items that may need to be modified, such as a list of tasks or a shopping cart.\n",
    ">>Tuples are often used for collections of items that should not be changed, such as coordinates or database records.\n",
    "\n",
    "Performance:\n",
    ">>Tuples are generally more memory-efficient and slightly faster than lists due to their immutability.\n",
    "\n",
    "Methods:\n",
    ">>Lists have more built-in methods for modifying their contents (e.g., append(), insert(), remove()) compared to tuples, which have limited methods due to their immutability.\n",
    "\n",
    "Homogeneity:\n",
    "While not enforced, lists typically contain elements of the same data type, whereas tuples often store heterogeneous data.\n"
   ]
  },
  {
   "cell_type": "raw",
   "id": "f0d447b5-3ff2-47d5-9f0d-269bd9f599fd",
   "metadata": {},
   "source": [
    "4) Describe how dictionaries store data?\n",
    "\n",
    ">>Dictionaries store data as unordered collections of key-value pairs. Each key in a dictionary must be unique, and it's associated with a corresponding value. This structure allows for efficient retrieval of data using the key, which can be a string, number, or tuple (with immutable elements). Dictionaries are mutable, meaning they can be modified after creation. \n",
    "\n",
    ">>Key-Value Pairs:\n",
    "Dictionaries store data in the form of \"key: value\" pairs. The key acts as an index, and the value is the data associated with that key. \n",
    "\n",
    ">>Uniqueness of Keys:\n",
    "Each key within a dictionary must be unique. This ensures that each value can be uniquely accessed by its corresponding key. \n",
    "\n",
    ">>Mutable and Unordered:\n",
    "Dictionaries are mutable, meaning their contents can be changed after they are created. They are also unordered, meaning the order in which key-value pairs are stored is not guaranteed and doesn't affect how the data is accessed. \n",
    "\n",
    ">>Key Types:\n",
    "Keys in a dictionary must be immutable data types like strings, numbers, or tuples (with immutable elements). \n",
    ">>Value Types:\n",
    "Values can be any data type, including other dictionaries, lists, or even functions"
   ]
  },
  {
   "cell_type": "raw",
   "id": "f2d40c60-90eb-462b-abd6-0b81bfddded3",
   "metadata": {},
   "source": [
    "5)Why might you use a set instead of a list in Python?\n",
    "\n",
    ">>In Python, you might use a set instead of a list when you need to ensure uniqueness of elements and when you want to perform operations like membership testing, removing duplicates, or mathematical set operations (union, intersection, difference) efficiently. \n",
    "\n",
    ">>Sets are unordered, unchangeable collections that don't allow duplicate values, making them ideal for scenarios where order doesn't matter and you only care about the presence of element\n",
    "\n",
    "1. Uniqueness and Duplicate Removal:\n",
    ">>Sets guarantee that every element is unique. If you try to add a duplicate to a set, it will be ignored, effectively removing the duplicate. \n",
    "\n",
    ">>Lists, on the other hand, allow duplicate elements. You can have the same value multiple times in a list. \n",
    "\n",
    ">>Sets are useful for situations where you need to remove duplicates from a list. For example, if you have a list of names and want a unique list of names, a set can efficiently remove duplicates\n",
    "\n",
    ". Membership Testing:\n",
    "Checking if an element exists in a set is a fast operation\n",
    "\n",
    "Checking if an element exists in a list requires a linear search\n",
    "\n",
    "Sets are therefore significantly faster for membership testing\n",
    "\n",
    ">>Set Operations:\n",
    "Sets support various mathematical set operations like union, intersection, and difference. These operations are not directly available for lists. \n",
    "\n",
    ">>Union: Combines all unique elements from two or more sets. \n",
    "\n",
    ">>Intersection: Returns a set containing only the elements that are common to all sets. \n",
    "\n",
    ">>Difference: Returns a set containing elements that are in the first set but not in the other sets. \n",
    "\n",
    "These set operations can be useful for data analysis and manipulation\n",
    "\n",
    "In summary, use a set when:\n",
    "> You need to ensure unique elements in your collection.\n",
    "> You want to perform efficient membership testing (checking if an element exists).\n",
    "> You need to use mathematical set operations (union, intersection, difference).\n",
    "> Order is not a requirement for your application. "
   ]
  },
  {
   "cell_type": "raw",
   "id": "ca02af72-b672-4dc4-8d5f-3364df4b734c",
   "metadata": {},
   "source": [
    "6)What is a string in Python, and how is it different from a list?\n",
    "\n",
    "In Python, a string is an immutable sequence of characters, while a list is a mutable sequence of items, which can be of any data type. Strings are typically represented by text within single or double quotes, and they can only contain characters, whereas lists can hold various elements like numbers, other lists, or even strings. \n",
    "\n",
    "Key Differences:\n",
    "\n",
    "Mutability:\n",
    "Strings are immutable, meaning their values cannot be changed after creation. Lists are mutable, allowing for modification, addition, or removal of elements.\n",
    "\n",
    "Item Types:\n",
    "Strings can only store characters, while lists can store items of various data types.\n",
    "\n",
    "Representation:\n",
    "Strings are typically enclosed in single or double quotes, while lists are defined within square brackets.\n",
    "\n",
    "Methods:\n",
    "Strings have methods for string manipulation like split(), strip(), and replace(). Lists have methods for modifying their elements, such as append(), remove(), and pop()."
   ]
  },
  {
   "cell_type": "raw",
   "id": "de6aa566-b230-46f9-a9d2-8cb952e1395f",
   "metadata": {},
   "source": [
    "7)How do tuples ensure data integrity in Python?\n",
    ">> tuples in python ensure data intergrity through their immutability.\n",
    ">> once atuple is created , it canot be modified, added , or removed.\n",
    "\n",
    ">>Immutablility<<\n",
    ">>primary integrity feature: Once the tuple is created , it can't change or modified.\n",
    ">>prevents accidental chances to data after creation.\n",
    "example:\n",
    "my_tuple=(1,2,3)\n",
    "my_tuple[1]=7\n",
    "# it will through the error that tuple are can't be add or modified the data once create.\n",
    "\n",
    ">> type safety<<\n",
    ">> tuples often represent fixed collection of related values or elements in tuples.\n",
    ">> Example: colour = (255, 0, 0) will always represent that rgb values.\n",
    "\n",
    ">> Hashability<<\n",
    ">> tuples containing immutable elements can be used as dictionary key.\n",
    ">>this reuires the tuple's contents to remove constant for consistent hashing.\n",
    "Example:\n",
    "location = {(67.8986, 135.6917):\"vijayawada\"}\n",
    "\n",
    ">> Use Case Benefites from intergrity <<\n",
    ">> constants: storing values that shouldn't change during the execution\n",
    ">> Dictionary key: As menstined above\n",
    ">>Data records: maintain the consistancestructure for recors \n",
    "\n",
    "\n"
   ]
  },
  {
   "cell_type": "raw",
   "id": "8caade79-17e7-4438-b951-777f9ba797e5",
   "metadata": {},
   "source": [
    "8) What is a hash table, and how does it relate to dictionaries in Python?\n",
    ">> Hash table is a data structure that store key- values pairs.\n",
    ">>Each key is unique and mapped to a specific location in index.\n",
    ">> This allow for efficient retrieval, insertion, and deletion of data\n",
    "\n",
    ">> python have built-in function \"dict\" type is implemented as a hash table with these features\n",
    "\n",
    ">>Implementation detais<<\n",
    ">>open addressing : python uses a variants called \"probing\" to handle collsion.\n",
    ">>Dynamic resizing : grow and shrinks as needed to maintain effciency\n",
    ">>Compact storage: moder python version optimize memory usage\n",
    "\n",
    ">> In dictionary the key must be immutable because the the key are the index values \n",
    ">> values are mutable in dictinory they are so many dublicate values .\n",
    "\n",
    "Example:\n",
    "valid = {(1:ahmmed)} #tuple key are immutables it will work\n",
    "\n",
    "invalid = {[1:\"ahmmed\"]} #list key are mutable it will show an error\n",
    "\n",
    ">> Function of hash table in python <<\n",
    "__hash__() is used to implement the method\n",
    "__eq__() is used to compare the methpd and implement\n"
   ]
  },
  {
   "cell_type": "raw",
   "id": "fc0639d7-77ec-460c-bb4b-45da76fbed59",
   "metadata": {},
   "source": [
    "9) Can lists contain different data types in Python?\n",
    ">> Yes, a list contain the different data types and elements in python.\n",
    ">> list are versatile and do not impose restriction on the data types \n",
    ">> list can store the combination of integer, float, string, boolean\n",
    "\n",
    "Example:\n",
    "my_list = [1, 'hello', 3.87, true, [1,2,3]]\n",
    "print(my_list)\n",
    "#output\n",
    "[1, 'hello', 3.87, true,[1,2,3]]\n",
    "\n",
    ">> while it is possible to create alist with mixed data types, it's often recommended to maintain consistency within a list for better code and reliyability and maintainbility.\n",
    ">>especially when we perform operation on the list elements\n"
   ]
  },
  {
   "cell_type": "raw",
   "id": "bf6d8c4c-2d7c-42d1-8e72-1e55373aa902",
   "metadata": {},
   "source": [
    "10)Explain why strings are immutable in Python?\n",
    ">> In python , strings are immutable because of several design choices that safety and simplicity \n",
    ">> Once string are created it can't be changed if any other modification a string actually create a new string object , leaving the orginal untouch \n",
    ">> immutability have a benifit is performance optimization \n",
    ">> the size of string is fixed when it was created and allocated a memory location for it more efficiently\n",
    ">> string literals can share the same memory location , reducing the memory consumption.\n",
    ">>immutability also enhance safety, particularly in multithreaded environment.\n",
    "\n",
    ">>Benefits of immutable objets<<\n",
    ">> Hashability and Dictionary Keys: Immutable objects can be used as keys in dictionaries because their hash value remains constant, ensuring that the key-value mapping is consistent.\n",
    ">> Memory Efficiency: Since immutable objects cannot change their value, Python can optimize memory usage.\n",
    ">> Thread Safety: Immutability provides inherent thread safety. When multiple threads access the same immutable object, there’s no risk of data corruption due to concurrent modifications.\n",
    ">> Performance Optimization: Immutable objects facilitate certain performance optimizations, such as caching hash values for quick dictionary lookups."
   ]
  },
  {
   "cell_type": "raw",
   "id": "b306f61e-53d2-4496-b6c2-94cb7452f49a",
   "metadata": {},
   "source": [
    "11)What advantages do dictionaries offer over lists for certain tasks?\n",
    ">> Dicitionaries offer some advantages over list when needing fast data retrival by key or when representing key-values pair.\n",
    ">> on other hand  list are better suited for storing and accessing elements by their index and for situation where order is important\n",
    "\n",
    "advantage of dictionaries :\n",
    ">>Fast lookup:\n",
    "Dictionaries use hash tables, allowing for near-instantaneous retrieval of value based on their corresponding keys.\n",
    "\n",
    ">>key-value pairs:\n",
    "dictinaries store the data as key-value pair, making it easy to associate and retrieve data based on descriptive key rather thannumerical indices\n",
    "\n",
    ">>Flexibility:\n",
    "Dictionaries can store various data types as values including other dictionary , list, and even custom objects.\n",
    "\n",
    ">>Clear code:\n",
    "using dictionaries to represent kry-value relationship can often make code more readable and easier to understand\n",
    "\n",
    ">>Dynamic Nature:\n",
    "Dictionaries can grow or shrink dynamically as needed making them felxible for various application"
   ]
  },
  {
   "cell_type": "raw",
   "id": "3a7d8855-d7f5-430b-bf5d-58169b4f5c00",
   "metadata": {},
   "source": [
    "12)Describe a scenario where using a tuple would be preferable over a list?\n",
    ">> A tuple is preferable over a list when you need to store a fixed collection of itemsthat should not be modified throughout the program \n",
    "\n",
    ">>scenario<<\n",
    ">>we are builiding a system to store personal identity data for indian citizen\n",
    ">>Each person aadhar information including their Aadhar number,name,and date of birth\n",
    ">> in the aadhar system only aadhar number is fixed permanent, while personal detailes like name, address and even mobile number can be update \n",
    "\n",
    "aadhar_record = (\"913427665449\",\n",
    "     {\n",
    "        \"name\": \"ahmmed\",\n",
    "     \"address\": \"123 mg road, vijayawada\",\n",
    "     \"phone\"  :\"8309783040\" })\n",
    "# update the address\n",
    "aadhar_record[1][\"address\"] = \"456 king hotel, puna\"\n",
    "\n",
    ">> this structure work :\n",
    ">>> tuples keep the aadhar number immutable\n",
    ">>> dictionary allows update to personal detailes as needed.\n",
    "\n",
    ">> list are mutble it can the element in aadhar card is uqnic id for citizen in india tuple are stored the values and they are immutable"
   ]
  },
  {
   "cell_type": "raw",
   "id": "09666ee4-cd03-4428-93e5-99da861767a7",
   "metadata": {},
   "source": [
    "13) How do sets handle duplicate values in Python?\n",
    ">> Sets in python are designed to store only unique elements.\n",
    ">> When attempting to add a dupicate values to a set automatically discards it, ensuring that each element within the set is ditinct. \n",
    ">> This behavior makes sets useful for task like removing duplicates from a list or checking for the presence of unique items.\n",
    "\n",
    "Example:\n",
    "my_set = {1,2,2,3,4,5,5,}\n",
    "print(my_set)\n",
    "output: {1,2,3,4,5}\n",
    "\n",
    "Key points:\n",
    ">> set ignore of dublicate values.\n",
    ">> the order of eements is not guaranteed.\n",
    ">> you can use the (set()) construction to remove duplicate from a list or other iterable.\n",
    "\n",
    ">> set automactically remove duplicate values.\n",
    ">> set is an unordered collection of unique elements\n"
   ]
  },
  {
   "cell_type": "raw",
   "id": "466f1d29-a878-4d6c-b027-bced20214103",
   "metadata": {},
   "source": [
    "14)How does the “in” keyword work differently for lists and dictionaries?\n",
    ">> The \"in\" keyword checks for membership differently in list anddictionaries.\n",
    ">> For list, \"in\" searches for a values within the list's elements, returning True if the value exits and False otherwise.\n",
    "\n",
    "\n",
    ">> Lists:\n",
    ">> The \"in\" operator, when used with a list, checks if a specific element is present within the list's elements.\n",
    ">> It iterates through each element in list and compares it with the value being searched for.\n",
    ">> If a match is found, it returns \"True\". Otherwise, it retuns \"False\"\n",
    "\n",
    ">> Dictionaries:\n",
    ">> The \"in\" operator, when used with a dictionary, cheks if a specific key is present in the dictionary's keys.\n",
    ">> it does not check the values associated with the key.\n",
    ">> if thr specified key exists in the dictionary's key, it return \"True\" . otherwise, it retuen \"False\"\n",
    "\n",
    "EXAMPLE:\n",
    "#list\n",
    "my_list = [1,2,3,4,5,'ahmmed']\n",
    "print(2 in my_list)\n",
    "output:\n",
    "True (2 exists in the list)\n",
    "\n",
    "print('fayaz' in my_list)\n",
    "output:\n",
    "False ('fayaz' does not exist in my_list)\n",
    "\n",
    "#Dictionaries\n",
    "my_dict = {\"a\": 1, \"b\": 2, \"c\": 3}\n",
    "print(\"b\" in my_dict) \n",
    "Output: True (\"b\" is a key in the dictionary)\n",
    "\n",
    "print(\"d\" in my_dict)\n",
    "Output: False (\"d\" is not a key in the dictionary)"
   ]
  },
  {
   "cell_type": "raw",
   "id": "7ffbb0d9-7a4b-4a58-b30f-402e5a91d1a9",
   "metadata": {},
   "source": [
    "15)Can you modify the elements of a tuple? Explain why or why not?\n",
    "\n",
    ">> NO,you can't directly modify the elements of a tuple in python.\n",
    ">> tuple are immutble, meaning their contents cannot be change after creation.\n",
    ">> This is a key different between tuple and list \n",
    ">> A data structure that allow the modification , a list shold be used instead.\n",
    "\n",
    "Explanation:\n",
    "\n",
    "immutable:\n",
    ">> Tuples are desined to be immutable, which means once created, the element within the tuple cannot be altered\n",
    "\n",
    "Why tuples are immutable :\n",
    ">> immutability offers servral benefits, including increased efficiency and ability to use tuples as key in dicitionaries .\n",
    ">> Modifying a Tuple:\n",
    ">> Attempting to modify a tuple will raise a TypeError.\n",
    ">> For example, trying to assign a new value to a tuple element will reult in an error.\n"
   ]
  },
  {
   "cell_type": "raw",
   "id": "a139b5f9-95e2-40a8-9dff-c9c4e485aabc",
   "metadata": {},
   "source": [
    "16)What is a nested dictionary, and give an example of its use case?\n",
    ">> A nested dictionary is a dictionary where the value of or more key is another dictionary.\n",
    ">> it's essentially a dictionary within a dictionary, allowing more complex data structure and organiztion \n",
    ">> A common use case is representing hierarchical data like an employee directory with each employee having their own dictionary of details\n",
    "\n",
    "Example:\n",
    "# Nested dictionary representing employees in a company\n",
    "employees = {\n",
    "  \"department1\": {\n",
    "    \"emp1\": {\n",
    "      \"name\": \"Alice\",\n",
    "      \"title\": \"Software Engineer\",\n",
    "      \"salary\": 80000\n",
    "    },\n",
    "    \"emp2\": {\n",
    "      \"name\": \"Bob\",\n",
    "      \"title\": \"Project Manager\",\n",
    "      \"salary\": 100000\n",
    "    }\n",
    "  },\n",
    "  \"department2\": {\n",
    "    \"emp3\": {\n",
    "      \"name\": \"Charlie\",\n",
    "      \"title\": \"Data Scientist\",\n",
    "      \"salary\": 90000\n",
    "    }\n",
    "  }\n",
    "}\n",
    "\n",
    "# Accessing data within the nested dictionary\n",
    "print(employees[\"department1\"][\"emp1\"][\"name\"])  # Output: Alice\n",
    "print(employees[\"department2\"][\"emp3\"][\"title\"])  # Output: Data Scientist"
   ]
  },
  {
   "cell_type": "raw",
   "id": "5741add7-0c02-4e5a-80cd-d910b9bafb85",
   "metadata": {},
   "source": [
    "17)Describe the time complexity of accessing elements in a dictionary?\n",
    ">>Python dictionaries provide a fast and efficient way to store and retrieve data using key value pair.\n",
    ">>So understanding the time complexities of dictionary operations is very important for optimizing performance in our programs.\n",
    "\n",
    ">>Accessing the elemrnts by the key (0(1))<<\n",
    ">> The time complexity of retrieving a value by its key in a dictionary is O(1). This is because dictionaries use a hash table internally which allows constant time lookup.\n",
    "\n",
    "Example:\n",
    "# Create a dictionary\n",
    "dict = {'a': 1, 'b': 2, 'c': 3}\n",
    "\n",
    "# Access value by key\n",
    "val = dict['b']\n",
    "print(val)\n",
    "\n",
    "output : 2\n",
    "\n",
    ">>>Adding or Updating an Element (O(1))<<\n",
    ">>Adding a new key-value pair or updating an existing key is also O(1) in average cases as the dictionary directly places the value in the hash table.\n",
    "\n",
    "Example:\n",
    "# Add a new key-value pair\n",
    "dict = {'a': 1, 'b': 2, 'c': 3}\n",
    "dict['d'] = 4\n",
    "print(dict)  \n",
    "\n",
    "# Update an existing key\n",
    "dict['a'] = 10\n",
    "print(dict)\n",
    "\n",
    "output:\n",
    "{'a': 1, 'b': 2, 'c': 3, 'd': 4}\n",
    "{'a': 10, 'b': 2, 'c': 3, 'd': 4}\n"
   ]
  },
  {
   "cell_type": "raw",
   "id": "d7aa4787-8fa5-4e03-9194-361bc6c55eb6",
   "metadata": {},
   "source": [
    "18)In what situations are lists preferred over dictionaries?\n",
    ">> Lists are generally preferred over dictionaries when order matters, you need to modify elements, or when you're dealing with simple, ordered collections of data. \n",
    ">> Dictionaries are better suited for scenarios involving key-value pairs, fast lookups, and when the order of elements is not critical. \n",
    "when to use list:\n",
    ">> ordered collections:\n",
    ">> list maintance the order in which element arre added, making them idea when sequence is imporantant, like represent a sequesnce of use action or processing data ina specific order\n",
    "\n",
    ">> Modification and Appending:\n",
    ">> Lists are mutable, allowing you to easily add, remove, or modify elements. \n",
    "\n",
    ">> Basic Data Storage:\n",
    ">> When you need to store a collection of data and order is important, lists are a straightforward choice. \n",
    "\n",
    ">> Operations on Ordered Data:\n",
    ">> Lists excel at operations like sorting, slicing, and iterating through elements in a defined order. \n",
    "\n",
    "\n",
    ">>When to use Dictionaries:\n",
    ">> Key-Value Associations:\n",
    ">> Dictionaries are designed to store data as key-value pairs, making them suitable for representing mappings, relationships, or lookup tables. \n",
    "\n",
    ">> Fast Lookups:\n",
    ">> Dictionaries provide efficient retrieval of values based on keys, making them ideal for scenarios where you need to access data quickly by identifier. \n",
    "\n",
    ">> Complex Data Structures:\n",
    "Dictionaries can be nested, allowing you to create complex data structures that can represent hierarchical or relational data. \n",
    "\n",
    ">> Unordered Collections:\n",
    "While dictionaries in Python 3.7 and later maintain insertion order by default, they are fundamentally unordered. This means that elements are not necessarily stored or retrieved in the order they were added"
   ]
  },
  {
   "cell_type": "raw",
   "id": "d9b3f883-3685-434c-99b7-43171ae7b3e6",
   "metadata": {},
   "source": [
    "19)Why are dictionaries considered unordered, and how does that affect data retrieval?\n",
    ">> Dictionaries are considered unordered because they don't inherently maintain a specific order of elements based on when they were added. This lack of ordering can affect data retrieval in that you cannot access elements by their position (index) as you can with lists or tuples\n",
    ">>  The primary focus remains on fast key-based access, and they are not designed to be used as ordered collections like lists. \n",
    ">> While dictionaries in Python 3.7+ may preserve insertion order as an implementation detail, the primary focus remains on fast key-based access\n",
    "\n",
    ">> Lack of Positional Access:\n",
    "In lists or tuples, you can access elements using their index \n",
    "(e.g., my_list[0])\n",
    "Dictionaries, however, are accessed using keys, not positions. There is no guarantee that keys will be in the order they were added, and the order may even vary slightly depending on the implementation.\n",
    "\n",
    ">>Optimization for Fast Lookup:\n",
    "Dictionaries are designed for efficient lookups based on keys. This means that their internal structure (often a hash table) is optimized for quickly finding the value associated with a given key, regardless of the order in which the key-value pairs were added.\n",
    "\n",
    ">>Insertion Order in Python 3.7+:\n",
    "While Python 3.7 and later versions maintain insertion order as a feature, it's still important to remember that this is an implementation detail and not a core guarantee. The primary purpose of dictionaries remains key-based access, and the insertion order is not a guaranteed aspect of the data structure.\n",
    "\n",
    ">>Iterating over Dictionaries:\n",
    "When iterating over a dictionary (e.g., with a for loop), you will traverse the keys in a specific order, but this order is not guaranteed to be the order in which they were inserted."
   ]
  },
  {
   "cell_type": "raw",
   "id": "45a5bab6-dc1c-459d-92cd-51e08ce66a20",
   "metadata": {},
   "source": [
    "20) Explain the difference between a list and a dictionary in terms of data retrieval?\n",
    ">> In terms of data retrieval, lists access elements by their index (position), while dictionaries access them by their unique key. \n",
    ">> Lists are ordered, meaning the order elements are added is preserved, whereas dictionaries are unordered unless specified\n",
    ">> This difference significantly impacts retrieval speed and how data is organized.\n",
    "\n",
    ">> Lists:\n",
    ">> Access by Index:\n",
    "Elements are accessed using their numerical index, starting from 0. For example, to retrieve the second element in a list, you'd use index 1. \n",
    "\n",
    ">> Ordered:\n",
    "Lists maintain the order in which elements are added, making them suitable for scenarios where sequential access or iteration matters. \n",
    "\n",
    ">> Retrieval Speed:\n",
    "Accessing an element by index in a list is generally very fast, often with O(1) (constant time) complexity\n",
    "\n",
    "Example:\n",
    "    my_list = [\"apple\", \"banana\", \"cherry\"]\n",
    "    print(my_list[1])  \n",
    "\n",
    "Output: \"banana\"\n",
    "\n",
    ">> Dictionaries:\n",
    ">> Access by Key:\n",
    "Elements are accessed using unique keys, which can be strings, numbers, or other immutable data types. \n",
    "\n",
    ">> Unordered:\n",
    "Dictionaries do not inherently maintain the order of elements, although they are ordered in Python 3.7+ and later versions. \n",
    "\n",
    ">> Retrieval Speed:\n",
    "Retrieving a value by its key in a dictionary is typically very fast, with O(1) (constant time) complexity on average\n",
    "\n",
    "Example:\n",
    "    my_dict = {\"apple\": \"red\", \"banana\": \"yellow\", \"cherry\": \"red\"}\n",
    "    print(my_dict[\"banana\"])  \n",
    "\n",
    "Output: \"yellow\""
   ]
  },
  {
   "cell_type": "code",
   "execution_count": null,
   "id": "a5897e0b-67ee-4440-b1f0-7116ed9da020",
   "metadata": {},
   "outputs": [],
   "source": []
  },
  {
   "cell_type": "code",
   "execution_count": null,
   "id": "b0378ef8-050d-4840-a1b9-a2dc63ad48ef",
   "metadata": {},
   "outputs": [],
   "source": [
    "practical question "
   ]
  },
  {
   "cell_type": "code",
   "execution_count": 17,
   "id": "3fcb361a-0aa9-4fa9-8c1c-afd92c1b04d5",
   "metadata": {},
   "outputs": [
    {
     "name": "stdout",
     "output_type": "stream",
     "text": [
      "shaik fayaz ahmmed\n"
     ]
    },
    {
     "data": {
      "text/plain": [
       "str"
      ]
     },
     "execution_count": 17,
     "metadata": {},
     "output_type": "execute_result"
    }
   ],
   "source": [
    "# 1)Write a code to create a string with your name and print it\n",
    "\n",
    "name = (\"shaik fayaz ahmmed\")\n",
    "print(name)\n",
    "type(name)"
   ]
  },
  {
   "cell_type": "code",
   "execution_count": 9,
   "id": "3720de43-6c0d-47d5-942a-f0313dc546e6",
   "metadata": {},
   "outputs": [
    {
     "name": "stdout",
     "output_type": "stream",
     "text": [
      "11\n"
     ]
    }
   ],
   "source": [
    "# 2)Write a code to find the length of the string \"Hello World\"\n",
    "\n",
    "string = \"Hello world\"\n",
    "print(len(string))"
   ]
  },
  {
   "cell_type": "code",
   "execution_count": 11,
   "id": "5eae9e18-b505-4b79-b910-f27fb5cb1ad1",
   "metadata": {},
   "outputs": [
    {
     "data": {
      "text/plain": [
       "'pyt'"
      ]
     },
     "execution_count": 11,
     "metadata": {},
     "output_type": "execute_result"
    }
   ],
   "source": [
    "# 3)Write a code to slice the first 3 characters from the string \"Python Programming\"\n",
    "language_name = \"python programing\"\n",
    "language_name[0:3]"
   ]
  },
  {
   "cell_type": "code",
   "execution_count": 27,
   "id": "628fa784-6356-493b-b9c8-9f273899632b",
   "metadata": {},
   "outputs": [
    {
     "data": {
      "text/plain": [
       "'HELLO'"
      ]
     },
     "execution_count": 27,
     "metadata": {},
     "output_type": "execute_result"
    }
   ],
   "source": [
    "# 4)Write a code to convert the string \"hello\" to uppercase\n",
    "challo = 'hello'\n",
    "challo.upper()"
   ]
  },
  {
   "cell_type": "code",
   "execution_count": 35,
   "id": "86ecdaea-5740-477e-9c58-3bfcf9bc0306",
   "metadata": {},
   "outputs": [
    {
     "data": {
      "text/plain": [
       "'i like orange'"
      ]
     },
     "execution_count": 35,
     "metadata": {},
     "output_type": "execute_result"
    }
   ],
   "source": [
    "# 5)Write a code to replace the word \"apple\" with \"orange\" in the string \"I like apple\"\n",
    "fruit = 'i like apple'\n",
    "fruit.replace(\"apple\", \"orange\")"
   ]
  },
  {
   "cell_type": "code",
   "execution_count": 19,
   "id": "9f374011-dc34-45da-9bea-6c9d40851e84",
   "metadata": {},
   "outputs": [
    {
     "name": "stdout",
     "output_type": "stream",
     "text": [
      "[1, 2, 3, 4, 5]\n"
     ]
    },
    {
     "data": {
      "text/plain": [
       "list"
      ]
     },
     "execution_count": 19,
     "metadata": {},
     "output_type": "execute_result"
    }
   ],
   "source": [
    "# 6) Write a code to create a list with numbers 1 to 5 and print it\n",
    "my_list = list(range(1, 6))\n",
    "print(my_list)\n",
    "type(my_list)"
   ]
  },
  {
   "cell_type": "code",
   "execution_count": 7,
   "id": "768fece5-7452-4ed0-b864-87b334a50315",
   "metadata": {},
   "outputs": [
    {
     "data": {
      "text/plain": [
       "[1, 2, 3, 4, 10]"
      ]
     },
     "execution_count": 7,
     "metadata": {},
     "output_type": "execute_result"
    }
   ],
   "source": [
    "# 7) Write a code to append the number 10 to the list [1, 2, 3, 4]\n",
    "my_list = [1,2,3,4]\n",
    "my_list.append(10)\n",
    "my_list"
   ]
  },
  {
   "cell_type": "code",
   "execution_count": 11,
   "id": "b896c5f7-ac84-4638-8c9a-74d9b1830acb",
   "metadata": {},
   "outputs": [
    {
     "name": "stdout",
     "output_type": "stream",
     "text": [
      "[1, 2, 4, 5]\n"
     ]
    }
   ],
   "source": [
    "# 8) Write a code to remove the number 3 from the list [1, 2, 3, 4, 5]\n",
    "my_list =[1,2,3,4,5]\n",
    "my_list.remove(3)\n",
    "print(my_list)"
   ]
  },
  {
   "cell_type": "code",
   "execution_count": 17,
   "id": "fa1a0896-15f4-4aea-87ba-f2438e8f18e7",
   "metadata": {},
   "outputs": [
    {
     "data": {
      "text/plain": [
       "'b'"
      ]
     },
     "execution_count": 17,
     "metadata": {},
     "output_type": "execute_result"
    }
   ],
   "source": [
    "# 9) Write a code to access the second element in the list ['a', 'b', 'c', 'd']\n",
    "v = [ 'a','b','c','d']\n",
    "v [1]"
   ]
  },
  {
   "cell_type": "code",
   "execution_count": 21,
   "id": "dbec29c7-d6da-4011-886c-a17acd31cf33",
   "metadata": {},
   "outputs": [
    {
     "name": "stdout",
     "output_type": "stream",
     "text": [
      "[50, 40, 30, 20, 10]\n"
     ]
    }
   ],
   "source": [
    " #10) Write a code to reverse the list [10, 20, 30, 40, 50].\n",
    "my_list = [10, 20, 30, 40, 50]\n",
    "reversed_list = my_list[::-1]\n",
    "print(reversed_list)"
   ]
  },
  {
   "cell_type": "code",
   "execution_count": 21,
   "id": "b92fd88b-7b39-430b-a16f-26061731d222",
   "metadata": {},
   "outputs": [
    {
     "name": "stdout",
     "output_type": "stream",
     "text": [
      "(100, 200, 300)\n"
     ]
    },
    {
     "data": {
      "text/plain": [
       "tuple"
      ]
     },
     "execution_count": 21,
     "metadata": {},
     "output_type": "execute_result"
    }
   ],
   "source": [
    "# 11) Write a code to create a tuple with the elements 100, 200, 300 and print it.\n",
    "my_tuple = (100,200,300)\n",
    "print(my_tuple)\n",
    "type(my_tuple)"
   ]
  },
  {
   "cell_type": "code",
   "execution_count": 25,
   "id": "28d7d07f-4034-4231-8d24-990df2740992",
   "metadata": {},
   "outputs": [
    {
     "data": {
      "text/plain": [
       "'blue'"
      ]
     },
     "execution_count": 25,
     "metadata": {},
     "output_type": "execute_result"
    }
   ],
   "source": [
    "# 12) Write a code to access the second-to-last element of the tuple ('red', 'green', 'blue', 'yellow')\n",
    "my_tuple =  ('red', 'green', 'blue', 'yellow')\n",
    "my_tuple[-2]"
   ]
  },
  {
   "cell_type": "code",
   "execution_count": 31,
   "id": "2876f65f-a1a8-48a9-89a7-9e5a2dd19846",
   "metadata": {},
   "outputs": [
    {
     "data": {
      "text/plain": [
       "5"
      ]
     },
     "execution_count": 31,
     "metadata": {},
     "output_type": "execute_result"
    }
   ],
   "source": [
    " # 13) Write a code to find the minimum number in the tuple (10, 20, 5, 15).\n",
    "my_tuple = (10, 20, 5, 15)\n",
    "min(my_tuple)"
   ]
  },
  {
   "cell_type": "code",
   "execution_count": 5,
   "id": "e9476148-02c7-4c13-9ca5-0d49fff31b8b",
   "metadata": {},
   "outputs": [
    {
     "name": "stdout",
     "output_type": "stream",
     "text": [
      "Index of cat 1\n"
     ]
    }
   ],
   "source": [
    "# 14) Write a code to find the index of the element \"cat\" in the tuple ('dog', 'cat', 'rabbit')\n",
    "animals =  ('dog', 'cat', 'rabbit')\n",
    "index = animals.index(\"cat\")\n",
    "print(\"Index of cat\", index)"
   ]
  },
  {
   "cell_type": "code",
   "execution_count": 13,
   "id": "8e7ed9ae-45ee-4e3a-b7fb-eef30099cc18",
   "metadata": {},
   "outputs": [
    {
     "name": "stdout",
     "output_type": "stream",
     "text": [
      "False\n",
      "False\n",
      "False\n"
     ]
    }
   ],
   "source": [
    "# 15)  Write a code to create a tuple containing three different fruits and check if \"kiwi\" is in it\n",
    "fruit = (\"apple\", \"banana\", \"orange\")\n",
    "for i in fruit:\n",
    "    print(i == \"kiwi\")"
   ]
  },
  {
   "cell_type": "code",
   "execution_count": 15,
   "id": "7eb0a267-30ef-4b9d-a5e1-2fab645dfd2e",
   "metadata": {},
   "outputs": [
    {
     "name": "stdout",
     "output_type": "stream",
     "text": [
      "False\n",
      "False\n",
      "True\n"
     ]
    }
   ],
   "source": [
    "\n",
    "fruit = (\"apple\", \"banana\", \"kiwi\")\n",
    "for i in fruit:\n",
    "    print(i == \"kiwi\")"
   ]
  },
  {
   "cell_type": "code",
   "execution_count": 1,
   "id": "b7bb808f-a91b-4464-98cb-ac520a29288e",
   "metadata": {},
   "outputs": [
    {
     "name": "stdout",
     "output_type": "stream",
     "text": [
      "{'c', 'a', 'b'}\n"
     ]
    },
    {
     "data": {
      "text/plain": [
       "set"
      ]
     },
     "execution_count": 1,
     "metadata": {},
     "output_type": "execute_result"
    }
   ],
   "source": [
    "# 16) Write a code to create a set with the elements 'a', 'b', 'c' and print it.\n",
    "my_set = {'a', 'b', 'c'}\n",
    "print(my_set)\n",
    "type(my_set)"
   ]
  },
  {
   "cell_type": "code",
   "execution_count": 9,
   "id": "51b5ea9c-52a3-44e7-b259-dfcb96a337ad",
   "metadata": {},
   "outputs": [
    {
     "name": "stdout",
     "output_type": "stream",
     "text": [
      "{1, 2, 3, 4, 5}\n",
      "set()\n"
     ]
    }
   ],
   "source": [
    "# 17)Write a code to clear all elements from the set {1, 2, 3, 4, 5}.\n",
    "my_set = {1, 2, 3, 4, 5}\n",
    "print(my_set)\n",
    "my_set.clear()\n",
    "print(my_set)"
   ]
  },
  {
   "cell_type": "code",
   "execution_count": 15,
   "id": "258af2d4-7c92-424c-bb15-561f746958fd",
   "metadata": {},
   "outputs": [
    {
     "data": {
      "text/plain": [
       "{1, 2, 3}"
      ]
     },
     "execution_count": 15,
     "metadata": {},
     "output_type": "execute_result"
    }
   ],
   "source": [
    "# 18) Write a code to remove the element 4 from the set {1, 2, 3, 4}.\n",
    "my_set = {1, 2, 3, 4}\n",
    "my_set.remove(4)\n",
    "my_set"
   ]
  },
  {
   "cell_type": "code",
   "execution_count": 19,
   "id": "827bedff-82e4-452c-80ef-460d2394ec46",
   "metadata": {},
   "outputs": [
    {
     "name": "stdout",
     "output_type": "stream",
     "text": [
      "{1, 2, 3, 4, 5}\n"
     ]
    }
   ],
   "source": [
    "# 19) Write a code to find the union of two sets {1, 2, 3} and {3, 4, 5}.\n",
    "my_set1 = {1, 2, 3} \n",
    "my_set2 = {3, 4, 5}\n",
    "union_set = my_set1.union(my_set2)\n",
    "print(union_set)"
   ]
  },
  {
   "cell_type": "code",
   "execution_count": 21,
   "id": "5ea2fee9-523b-422a-bbfb-2ed0bcbedcd8",
   "metadata": {},
   "outputs": [
    {
     "name": "stdout",
     "output_type": "stream",
     "text": [
      "{2, 3}\n"
     ]
    }
   ],
   "source": [
    "# 20)Write a code to find the intersection of two sets {1, 2, 3} and {2, 3, 4}.\n",
    "my_set1 = {1, 2, 3}\n",
    "my_set2 =  {2, 3, 4}\n",
    "intersection_set = my_set1.intersection(my_set2)\n",
    "print(intersection_set)"
   ]
  },
  {
   "cell_type": "code",
   "execution_count": 8,
   "id": "519b6590-daf1-4485-81ab-6184ce5372bf",
   "metadata": {},
   "outputs": [],
   "source": [
    "# 21) Write a code to create a dictionary with the keys \"name\", \"age\", and \"city\", and print it.\n",
    "person={\n",
    "    \"name\" :\"shaik fayaz ahmmed\",\n",
    "    \"age\" :25,\n",
    "    \"city\" : \"vijayawada\",\n",
    "    }"
   ]
  },
  {
   "cell_type": "code",
   "execution_count": 12,
   "id": "957fa22c-c2b2-4d84-a33f-16177818d987",
   "metadata": {},
   "outputs": [
    {
     "name": "stdout",
     "output_type": "stream",
     "text": [
      "shaik fayaz ahmmed\n",
      "25\n",
      "vijayawada\n"
     ]
    }
   ],
   "source": [
    "print(person['name'])\n",
    "print(person['age'])\n",
    "print(person['city'])"
   ]
  },
  {
   "cell_type": "code",
   "execution_count": 22,
   "id": "51304d35-ddcb-4e0e-9a95-ff3e9f43e577",
   "metadata": {},
   "outputs": [],
   "source": [
    "# 22) Write a code to add a new key-value pair \"country\": \"USA\" to the dictionary {'name': 'John', 'age': 25}.\n",
    "person = {\n",
    "    'name': 'john',\n",
    "    'age': 25,\n",
    "}\n",
    "\n",
    "person['country'] = 'USA'\n"
   ]
  },
  {
   "cell_type": "code",
   "execution_count": 28,
   "id": "81a2ee74-df97-48ce-a328-20d32a124c2e",
   "metadata": {},
   "outputs": [
    {
     "name": "stdout",
     "output_type": "stream",
     "text": [
      "john\n",
      "25\n",
      "USA\n"
     ]
    }
   ],
   "source": [
    "print (person['name'])\n",
    "print (person['age'])\n",
    "print (person['country'])"
   ]
  },
  {
   "cell_type": "code",
   "execution_count": 30,
   "id": "c0fdc0fd-442f-4937-9f01-ee6b4ec0cf27",
   "metadata": {},
   "outputs": [
    {
     "name": "stdout",
     "output_type": "stream",
     "text": [
      "alice\n"
     ]
    }
   ],
   "source": [
    "# 23)Write a code to access the value associated with the key \"name\" in the dictionary {'name': 'Alice', 'age': 30}.\n",
    "employee = { \"name\":\"alice\", 'age':30}\n",
    "print(employee[\"name\"])"
   ]
  },
  {
   "cell_type": "code",
   "execution_count": 46,
   "id": "d50d659f-5a33-49b5-b987-5ad5dfa6e97d",
   "metadata": {},
   "outputs": [
    {
     "name": "stdout",
     "output_type": "stream",
     "text": [
      "{'name': 'Bob', 'age': 22, 'city': 'New York'}\n",
      "{'name': 'Bob', 'city': 'New York', 'age': 22}\n",
      "{'name': 'Bob', 'city': 'New York'}\n"
     ]
    }
   ],
   "source": [
    "# 24)Write a code to remove the key \"age\" from the dictionary {'name': 'Bob', 'age': 22, 'city': 'New York'}.\n",
    "person = {'name': 'Bob', 'age': 22, 'city': 'New York'}\n",
    "print(person)\n",
    "del person['age']\n",
    "person[\"age\"] = 22\n",
    "print(person)\n",
    "person.pop('age')\n",
    "print(person)"
   ]
  },
  {
   "cell_type": "code",
   "execution_count": 52,
   "id": "36cfd921-2358-45dd-a974-ddc8c393d30a",
   "metadata": {},
   "outputs": [
    {
     "name": "stdout",
     "output_type": "stream",
     "text": [
      "key 'city' in the dictonary\n"
     ]
    }
   ],
   "source": [
    "# 25)Write a code to check if the key \"city\" exists in the dictionary {'name': 'Alice', 'city': 'Paris'}.\n",
    "person =  {'name': 'Alice', 'city': 'Paris'}\n",
    "if 'city' in person:\n",
    "    print(\"key 'city' in the dictonary\")\n",
    "else:\n",
    "    print(\"key ' city' does not exist\")"
   ]
  },
  {
   "cell_type": "code",
   "execution_count": 70,
   "id": "3519a522-e10a-45c6-bb55-550fc50c678f",
   "metadata": {},
   "outputs": [
    {
     "name": "stdout",
     "output_type": "stream",
     "text": [
      "['ahmmed', 'king', 'fayaz', 'khadder']\n",
      "('banana', 'mango', 'apple')\n",
      "{'name': 'ahmmed', 'age': 24, 'city': 'vijayawada'}\n"
     ]
    }
   ],
   "source": [
    "# 26)Write a code to create a list, a tuple, and a dictionary, and print them all\n",
    "my_list = ['ahmmed', 'king', 'fayaz', 'khadder']\n",
    "my_tuples = (\"banana\", \"mango\", 'apple')\n",
    "my_dictinory = {'name':'ahmmed', 'age':24, 'city':'vijayawada'}\n",
    "print(my_list)\n",
    "\n",
    "print(my_tuples)\n",
    "\n",
    "print(my_dictinory)"
   ]
  },
  {
   "cell_type": "code",
   "execution_count": 76,
   "id": "199e026d-f8eb-479b-b0c0-4d2785fd6569",
   "metadata": {},
   "outputs": [
    {
     "data": {
      "text/plain": [
       "[6, 10, 78, 80, 90]"
      ]
     },
     "execution_count": 76,
     "metadata": {},
     "output_type": "execute_result"
    }
   ],
   "source": [
    "''' 27)Write a code to create a list of 5 random numbers between 1 and 100, sort it in ascending order, and print the\n",
    "result.(replaced)'''\n",
    "num = [10,90,80,6,78]\n",
    "num.sort()\n",
    "num\n"
   ]
  },
  {
   "cell_type": "code",
   "execution_count": 78,
   "id": "8c87126e-e2a9-4070-aee7-fb9e5f0161ad",
   "metadata": {},
   "outputs": [
    {
     "data": {
      "text/plain": [
       "[6, 10, 50, 80, 90]"
      ]
     },
     "execution_count": 78,
     "metadata": {},
     "output_type": "execute_result"
    }
   ],
   "source": [
    "num[2] = 50\n",
    "num"
   ]
  },
  {
   "cell_type": "code",
   "execution_count": 86,
   "id": "3fceaf55-d290-4088-ad54-b1d360fd6bf2",
   "metadata": {},
   "outputs": [
    {
     "data": {
      "text/plain": [
       "'andhara pradesh'"
      ]
     },
     "execution_count": 86,
     "metadata": {},
     "output_type": "execute_result"
    }
   ],
   "source": [
    "# 28) Write a code to create a list with strings and print the element at the third index.\n",
    "my_list = ['ahmmed', 'king', 'vijayawada', 'andhara pradesh', 'india', 'dubai', 'world']\n",
    "my_list[3]"
   ]
  },
  {
   "cell_type": "code",
   "execution_count": 21,
   "id": "9d5e1b47-3d5d-434c-a018-6e44faefd77d",
   "metadata": {},
   "outputs": [
    {
     "name": "stdout",
     "output_type": "stream",
     "text": [
      "{'emp1': {'name': 'fayaz ahmmed', 'age': 25, 'city': 'vijayawada'}, 'emp2': {'name': 'king', 'age': 24, 'city': 'bombay'}, 'emp3': {'name': 'khadder', 'age': 25, 'city': 'vijayawada'}, 'emp4': {'name': 'sohai', 'age': 25, 'city': 'hyderabad'}}\n"
     ]
    }
   ],
   "source": [
    "# 29) Write a code to combine two dictionaries into one and print the result.\n",
    "dept1= {\n",
    "        'emp1':{\n",
    "    'name':'fayaz ahmmed',\n",
    "    'age': 25,\n",
    "    'city':'vijayawada',\n",
    "    },\n",
    "    'emp2':{\n",
    "    'name':'king',\n",
    "    'age':24,\n",
    "    'city':'bombay'\n",
    "    }\n",
    "    }\n",
    "\n",
    "dept2= {\n",
    "    'emp3': {'name':'khadder',\n",
    "            'age':25,\n",
    "            'city':'vijayawada'},\n",
    "  \n",
    "    'emp4':{'name':'sohai',\n",
    "            'age':25,\n",
    "            'city':'hyderabad'}\n",
    "}\n",
    "\n",
    "combined_deparment = {** dept1, ** dept2}\n",
    "\n",
    "print(combined_deparment )"
   ]
  },
  {
   "cell_type": "code",
   "execution_count": 29,
   "id": "37084228-b53d-42c5-9033-af328aa1ec4c",
   "metadata": {},
   "outputs": [
    {
     "name": "stdout",
     "output_type": "stream",
     "text": [
      "{'graps', 'banana', 'apple', 'mango', 'kiwi'}\n"
     ]
    },
    {
     "data": {
      "text/plain": [
       "set"
      ]
     },
     "execution_count": 29,
     "metadata": {},
     "output_type": "execute_result"
    }
   ],
   "source": [
    "#30) Write a code to convert a list of strings into a set.\n",
    "fruits = [\"banana\",\"apple\",\"mango\",\"kiwi\",\"banana\",\"graps\",\"apple\"]\n",
    "my_set = set(fruits)\n",
    "print(my_set)\n",
    "type(my_set)"
   ]
  },
  {
   "cell_type": "code",
   "execution_count": null,
   "id": "6ecce226-e3cf-4706-92f2-58189ff2d731",
   "metadata": {},
   "outputs": [],
   "source": []
  },
  {
   "cell_type": "code",
   "execution_count": null,
   "id": "b587b976-74af-4556-bd71-c4694d86311d",
   "metadata": {},
   "outputs": [],
   "source": []
  },
  {
   "cell_type": "code",
   "execution_count": null,
   "id": "68f15398-985e-48e4-9408-a9baa7682035",
   "metadata": {},
   "outputs": [],
   "source": []
  },
  {
   "cell_type": "code",
   "execution_count": null,
   "id": "9b664398-60bf-4143-be43-227b3a7ed40c",
   "metadata": {},
   "outputs": [],
   "source": []
  },
  {
   "cell_type": "code",
   "execution_count": null,
   "id": "7e4aedf1-6ecf-4bd7-a784-0e546ba88d9b",
   "metadata": {},
   "outputs": [],
   "source": []
  },
  {
   "cell_type": "code",
   "execution_count": null,
   "id": "41f62a33-c977-462f-a6c1-2f978786510c",
   "metadata": {},
   "outputs": [],
   "source": []
  },
  {
   "cell_type": "code",
   "execution_count": null,
   "id": "c9c0bfd4-4525-4d50-b6c5-29223b3e6a94",
   "metadata": {},
   "outputs": [],
   "source": []
  },
  {
   "cell_type": "code",
   "execution_count": null,
   "id": "52468c92-c0ae-45c0-a49c-1286e93047be",
   "metadata": {},
   "outputs": [],
   "source": []
  },
  {
   "cell_type": "code",
   "execution_count": null,
   "id": "356d6eb3-7a64-4f56-aa96-e0d375c9dcda",
   "metadata": {},
   "outputs": [],
   "source": []
  },
  {
   "cell_type": "code",
   "execution_count": null,
   "id": "e3c9ad88-4e7a-4edd-b3b5-24ac59007106",
   "metadata": {},
   "outputs": [],
   "source": []
  },
  {
   "cell_type": "code",
   "execution_count": null,
   "id": "8dce49ee-c5ad-4df0-8792-14532dc39911",
   "metadata": {},
   "outputs": [],
   "source": []
  },
  {
   "cell_type": "code",
   "execution_count": null,
   "id": "d018ce43-14a4-4b36-b4be-de34ad68cd14",
   "metadata": {},
   "outputs": [],
   "source": []
  },
  {
   "cell_type": "code",
   "execution_count": null,
   "id": "a48e5d34-c86b-4ac5-8aea-da537498891f",
   "metadata": {},
   "outputs": [],
   "source": []
  }
 ],
 "metadata": {
  "kernelspec": {
   "display_name": "Python [conda env:base] *",
   "language": "python",
   "name": "conda-base-py"
  },
  "language_info": {
   "codemirror_mode": {
    "name": "ipython",
    "version": 3
   },
   "file_extension": ".py",
   "mimetype": "text/x-python",
   "name": "python",
   "nbconvert_exporter": "python",
   "pygments_lexer": "ipython3",
   "version": "3.12.7"
  }
 },
 "nbformat": 4,
 "nbformat_minor": 5
}
