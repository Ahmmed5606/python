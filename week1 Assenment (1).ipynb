{
 "cells": [
  {
   "cell_type": "code",
   "execution_count": null,
   "id": "d69017c4-d821-4ac4-9f5f-a62ad64be35d",
   "metadata": {},
   "outputs": [],
   "source": [
    "#python basics question"
   ]
  },
  {
   "cell_type": "raw",
   "id": "1886c49a-5470-4b0c-afab-c9dd9295570c",
   "metadata": {},
   "source": [
    "1)What is Python, and why is it popular ?\n",
    ">>>Python is hight-level, interpertel programming language it is konwn for its realibility and easy to use\n",
    ">>>It is a dynamic typing allowa for flexibility in data handling\n",
    ">>>it is an object oriented programming language\n",
    ">>>it has large active community\n",
    ">>>it has extensive libaries rich ecosystem of libraries like varius task including data analysis(numpy,pandas) machine learning(scikit-lear,lensorflow),and web development(djngo , flask)\n",
    "\n",
    ">>>why is it popular\n",
    ">>>easy to use\n",
    ">>>readbility and simplicity,that syntax is desinedto easy to understand and read\n",
    ">>>rapid development\n",
    ">>>it has large community provide support,document and resources for developer"
   ]
  },
  {
   "cell_type": "raw",
   "id": "0036455d-1c59-4865-b02d-3c6887a78fd1",
   "metadata": {},
   "source": [
    "2) What is an interpreter in Python?\n",
    ">>> Python is a interpreter programing that read and executes python code line by line\n",
    ">>> It translate the high-level python code in to machine_reasable bytecoad and than executes it allowingyou to see the result immediately\n",
    ">>> it convet information from one language to another spoken language in to another\n",
    ">>> Dinamic typing and interpretability\n",
    "\n"
   ]
  },
  {
   "cell_type": "raw",
   "id": "228221f2-a621-442a-aa72-a5fb15d51024",
   "metadata": {},
   "source": [
    "3) What are pre-defined keywords in Python ?\n",
    ">>>python keywords are some predefibed and reserved words in python that have special meaning\n",
    ">>>keywords are use for syntax of the coding\n",
    ">>>it cannot be used as an identifier, function,or variable name\n",
    ">>> they are 35 predefined keywords"
   ]
  },
  {
   "cell_type": "code",
   "execution_count": 8,
   "id": "52d88c71-c6d0-4c6f-9afb-f9cabaa55e87",
   "metadata": {},
   "outputs": [
    {
     "name": "stdout",
     "output_type": "stream",
     "text": [
      "\n",
      "Here is a list of the Python keywords.  Enter any keyword to get more help.\n",
      "\n",
      "False               class               from                or\n",
      "None                continue            global              pass\n",
      "True                def                 if                  raise\n",
      "and                 del                 import              return\n",
      "as                  elif                in                  try\n",
      "assert              else                is                  while\n",
      "async               except              lambda              with\n",
      "await               finally             nonlocal            yield\n",
      "break               for                 not                 \n",
      "\n"
     ]
    }
   ],
   "source": [
    "help(\"keywords\")"
   ]
  },
  {
   "cell_type": "raw",
   "id": "88205a42-372c-41fe-ab4b-c3d46a3272b2",
   "metadata": {},
   "source": [
    "4)Can keywords be used as variable names ?\n",
    ">>>predefined keywords are cannot be used directly use as variable name\n",
    ">>>keywords are reserved that have specific meaning inthe language's syntax and are used to defined the structired and logical of the code\n",
    ">>>Attempting to use a keyword as a variable name will result in a (\"syntax error\")\n",
    ">>>To avoid conflicts and maintain code clearity"
   ]
  },
  {
   "cell_type": "raw",
   "id": "0b72a4ec-020d-48d5-aa71-bebbf7bfb966",
   "metadata": {},
   "source": [
    "5)What is mutability in Python ?\n",
    ">>>In Python, a mutable object is one whose state can be modified after it is created.\n",
    ">>>This means you can change its contents (add, remove, or update elements) without creating a new object in memory.\n",
    ">>>Mutable Objects (Can Be Modified)\n",
    ">>>list, dict, set, byteeray these are mutable"
   ]
  },
  {
   "cell_type": "code",
   "execution_count": 12,
   "id": "21bf5977-4102-4c72-a2f5-7fcb388b0645",
   "metadata": {},
   "outputs": [
    {
     "name": "stdout",
     "output_type": "stream",
     "text": [
      "[1, 'ahmmed', 99, 9.5]\n"
     ]
    }
   ],
   "source": [
    "//Example//\n",
    "my_list=[1,\"Fayaz\",99,9.5]\n",
    "my_list[1]=\"ahmmed\"\n",
    "print(my_list)"
   ]
  },
  {
   "cell_type": "code",
   "execution_count": 16,
   "id": "b02af603-4b22-4d00-b30e-db79f3d309f5",
   "metadata": {},
   "outputs": [
    {
     "name": "stdout",
     "output_type": "stream",
     "text": [
      "[1, 'ahmmed', 99, 'shaik']\n"
     ]
    }
   ],
   "source": [
    "my_list[3]=\"shaik\"\n",
    "print(my_list)"
   ]
  },
  {
   "cell_type": "raw",
   "id": "b2769578-49e5-4d84-8ade-42a599580cd4",
   "metadata": {},
   "source": [
    "6) Why are lists mutable, but tuples are immutable ?\n",
    ">>>The distinction between lists (mutable) and tuples (immutable) in Python different purposes in programming.\n",
    ">>>Design Philosophy & Use Cases\n",
    "Lists (Mutable) For Dynamic, Changeable Data\n",
    ">>>Purpose: Store collections of items that may need to be modified (added, removed, or changed).\n",
    ">>>Use Cases:\n",
    "Maintaining a dynamic list (e.g., user inputs, appending logs).\n",
    "Situations where data needs frequent updates (e.g., a to-do list).\n",
    "\n",
    "\n",
    ">>>Tuples (Immutable)  For Fixed, Unchangeable Data\n",
    "Purpose: Store collections of items that should never change (like constants or configurations).\n",
    ">>>Use Cases:\n",
    "Storing days of the week ((\"Mon\", \"Tue\", \"Wed\")).\n",
    "Dictionary keys (since keys must be immutable).\n",
    "Returning multiple values from a function (safe from accidental modification).\n",
    "\n",
    ">>>Performance & Memory Efficiency\n",
    "Tuples are faster than lists because their immutability allows Python to optimize memory usage.\n",
    "Lists require extra overhead to handle dynamic resizing, whereas tuples are stored more efficiently.\n"
   ]
  },
  {
   "cell_type": "raw",
   "id": "c8a7a3dd-a48d-46be-88fd-8ce0b4ee811c",
   "metadata": {},
   "source": [
    "7)What is the difference between “==” and “is” operators in Python ?\n",
    ">>>\"==\" checks value equality\n",
    ">>>\"is\" check identity equality\n",
    "\n",
    ">>>\"==\"\n",
    ">>>compares the values of two objets\n",
    ">>>works even if the objects are stored in different memory location\n",
    ">>>use most comparisons(number,strings,list,etc.)\n",
    ">>>Example\n",
    ">>>a=[1,2,3,4]\n",
    ">>>b=[1,2,3,4]\n",
    ">>>print(a==b)\n",
    ">>>output #true\n",
    "\n",
    ">>>\"is\"\n",
    ">>>check if two variables refer to the same objet in memory\n",
    ">>>equivalent to comparing  id(obj1)==id(obj2)\n",
    ">>>mostly used for NOnw,True,False, or checking if two variables point to the object\n",
    ">>>Example\n",
    ">>>a=[\"king\",\"queen\",\"ahmmed\"]\n",
    ">>>b=a  //b refers to the same objet as a\n",
    ">>>print(a is b)\n",
    ">>>output\n",
    ">>>#true"
   ]
  },
  {
   "cell_type": "raw",
   "id": "251607f3-4af5-48e0-85fa-b667dd3fab0b",
   "metadata": {},
   "source": [
    "8)What are logical operators in Python ?\n",
    ">>>\n",
    ">>> Logical operatirs are used to combine conditional statement and return a boolean result\n",
    "(true or false).python has three main logical operators\n",
    "\n",
    ">>>\"and\" it retuen \"true\" if both condition are true\n",
    ">>>if the frist condition is false, python doesn't check the second\n",
    ">>>EXample\n",
    "\n",
    "age=25\n",
    "is_student=true\n",
    "if age >18 and is_student:\n",
    "print(\"you are an adult student\")\n",
    "else:\n",
    "print(\"does not meet both condition\")\n",
    "\n",
    "output:\n",
    "you are adult student\n",
    "\n",
    "\n",
    ">>>\"or\"\n",
    ">>>true if at least one condition is \"true\", python skips the second\n",
    ">>>Example\n",
    "has_subscription = False\n",
    "is_guest = True\n",
    "\n",
    "if has_subscription or is_guest:\n",
    "    print(\"Access granted.\")\n",
    "else:\n",
    "    print(\"Access denied.\")\n",
    "output:\n",
    "access granted\n",
    "\n",
    ">>>\"not\"\n",
    ">>>inverts the boolen value\n",
    ">>>useful for checking the opposite condition\n",
    ">>>Example\n",
    "is_raining = False\n",
    "\n",
    "if not is_raining:\n",
    "    print(\"Enjoy the sunshine!\")\n",
    "else:\n",
    "    print(\"Take an umbrella.\")\n",
    "\n",
    "output:\n",
    "Enjoy the sunshine!"
   ]
  },
  {
   "cell_type": "raw",
   "id": "db3e7e89-f089-409d-92c1-466b1cc95613",
   "metadata": {},
   "source": [
    "9)What is type casting ?\n",
    ">>>Type casting in Python is the process of converting a variable from one data type to another.\n",
    ">>>This is necessary in situations where operations require specific data types or when data needs to be represented differently\n",
    ">>>Type casting is a powerful tool in Python, allowing for flexibility and compatibility between different data types.\n",
    "\n",
    ">>Python have two types in type casting \n",
    "They are : implicit and explicit "
   ]
  },
  {
   "cell_type": "raw",
   "id": "80e6bbf3-16f0-46fe-b024-30651b506d9e",
   "metadata": {},
   "source": [
    "10) What is the difference between implicit and explicit type casting?\n",
    ">>>In python type casting (or type conversion) refers to converting one data type into another.\n",
    ">>>They are two types in the type casting.\n",
    ">>>1. Implicit.\n",
    ">>>2. explicit.\n",
    "\n",
    ">>>Implicit type casting.\n",
    ">>>Done automatically by the python when compatible type are involed.\n",
    ">>>Python converts a \"smaller\" data type to a \"lager\" one to avoid data loss.\n",
    ">>>occurs in operations involving different numeric types(int,float,bool).\n",
    ">>>Example\n",
    "\n",
    "a = 5      \n",
    "b = 2.5    \n",
    "result = a + b  \n",
    "print(result)   \n",
    "print(type(result))  \n",
    "\n",
    "# Output: 7.5 (float)\n",
    "\n",
    ">>>Explicit type casting\n",
    ">>>Done manually by the programmer using bulit-in functions like\n",
    ">>>int()\n",
    ">>>float()\n",
    ">>>str()\n",
    ">>>bool()\n",
    ">>>list(),tuple(),dict(),etc.\n",
    ">>>required when python cannot automatically convert type or when converting incompatible types.\n",
    ">>>Example\n",
    "# converting float to int\n",
    "num = 10.7\n",
    "int_num = int(num)\n",
    "print(int_num)  \n",
    "\n",
    "Output: 10\n"
   ]
  },
  {
   "cell_type": "raw",
   "id": "53783983-dc84-4fc9-a152-41617e836404",
   "metadata": {},
   "source": [
    "11)What is the purpose of conditional statements in Python?\n",
    ">>>Conditional statements in Python allow a program to make decisions based on certain conditions.\n",
    ">>>They control the flow of execution by running specific blocks of code only when certain criteria are met.\n",
    "\n",
    ">>>Key Purposes of Conditional Statements\n",
    ">>>Decision Making:Execute different code blocks based on whether a condition is True or False\n",
    "\n",
    "age = 18\n",
    "if age >= 18:\n",
    "    print(\"You are eligible to vote.\")\n",
    "else:\n",
    "    print(\"You cannot vote yet.\")\n",
    "\n",
    "   # output\n",
    "   you are eligible to vote\n",
    "\n",
    ">>>Handling Multiple Conditions:Check for multiple scenarios using elif (else-if).\n",
    "\n",
    "score = 85\n",
    "if score >= 90:\n",
    "    print(\"Grade: A\")\n",
    "elif score >= 80:\n",
    "    print(\"Grade: B\")\n",
    "else:\n",
    "    print(\"Grade: C\")\n",
    "\n",
    "    #output\n",
    "    Grad B\n",
    ">>>Controlling Program Flow:Skip or execute loops and functions conditionally\n",
    "\n",
    "for num in range(1, 6):\n",
    "    if num % 2 == 0:\n",
    "        print(f\"{num} is even.\")\n",
    "    else:\n",
    "        print(f\"{num} is odd.\")\n",
    "\n",
    "#output\n",
    "1 is odd.\n",
    "2 is even.\n",
    "3 is odd.\n",
    "4 is even.\n",
    "5 is odd.\n"
   ]
  },
  {
   "cell_type": "raw",
   "id": "0670ca19-9adc-4460-b6d0-a284b4ac87fa",
   "metadata": {},
   "source": [
    "12) How does the elif statement work ?\n",
    ">>>The elif (short for \"else if\") statement is used in Python to check multiple conditions sequentially after an initial if condition.\n",
    ">>> It allows you to handle different cases efficiently without nesting multiple if statements\n",
    "\n",
    ">>>Key Behaviors of elif\n",
    "\n",
    "1.Only one block executes\n",
    "Python checks conditions from top to bottom.\n",
    "The first condition that is \"True\" runs its block, and the rest are skipped.\n",
    "If condition is \"false\" then else block run (if present)\n",
    "\n",
    ">>>Example\n",
    "\n",
    "score = 85\n",
    "\n",
    "if score >= 90:\n",
    "    print(\"Grade: A\")\n",
    "elif score >= 80:  # Only checked if score < 90\n",
    "    print(\"Grade: B\")\n",
    "elif score >= 70:  # Only checked if score < 80\n",
    "    print(\"Grade: C\")\n",
    "else:              # Runs if all conditions above are False\n",
    "    print(\"Grade: D or F\")\n",
    "    #output\n",
    "    Grad:B"
   ]
  },
  {
   "cell_type": "raw",
   "id": "3743f54a-3a0e-4bc9-b695-98bda41f0cc2",
   "metadata": {},
   "source": [
    "13)What is the difference between for and while loops ?\n",
    ">>>Both for and while loops are used for repetition, but they work differently based on how they control iteration.\n",
    "\n",
    ">>>for Loop (Definite Iteration)\n",
    "Runs for each item in a sequence (list, string, range, etc.).\n",
    "Automatically stops when the sequence ends.\n",
    "Automatically handles iteration (no manual counter needed).\n",
    "Ends after iterating over all elements.\n",
    "\n",
    ">>>Example\n",
    "\n",
    "fruits = [\"apple\", \"banana\", \"cherry\"]\n",
    "for fruit in fruits:\n",
    "    print(fruit)\n",
    "#output\n",
    "apple  \n",
    "banana  \n",
    "cherry  \n",
    "\n",
    ">>>while Loop (Indefinite Iteration)\n",
    "Runs as long as a condition is True.\n",
    "Requires manual control (update the condition to avoid infinite loops).\n",
    "Requires manual initialization of a loop variable.\n",
    "Runs indefinitely until the condition is False (risk of infinite loops).\n",
    "\n",
    ">>>Example\n",
    "\n",
    "count = 5\n",
    "while count > 0:\n",
    "    print(count)\n",
    "    count -= 1  # Decrement to avoid infinite loop\n",
    "print(\"Blast off!\")\n",
    "\n",
    "#output\n",
    "5  \n",
    "4  \n",
    "3  \n",
    "2  \n",
    "1  \n",
    "Blast off!"
   ]
  },
  {
   "cell_type": "raw",
   "id": "38c4f30c-48c4-4375-8f3b-fc2b05c064b1",
   "metadata": {},
   "source": [
    "14) Describe a scenario where a while loop is more suitable than a for loop.?\n",
    ">>>A while loop is ideal when you need to repeatedly ask for user input until a valid response is given, since the number of attempts is unknown.\n",
    ">>>Why while Works Better Here:\n",
    "Unknown Iterations: You can’t predict how many times the user will enter a wrong password.\n",
    "Condition-Based Exit: The loop stops only when:\n",
    "The password is correct (break).\n",
    "Maximum attempts are exhausted (attempts == 0).\n",
    "Flexibility: Easily adapts to dynamic checks \n",
    "Example:\n",
    "\n",
    "correct_password = \"python123\"\n",
    "attempts = 3 \n",
    "while attempts > 0:\n",
    "    user_input = input(\"Enter password: \")\n",
    "    if user_input == correct_password:\n",
    "        print(\"Access granted!\")\n",
    "        break  \n",
    "    else:\n",
    "        attempts -= 1\n",
    "        print(f\"Wrong password! {attempts} attempts left.\")\n",
    "else: \n",
    "    print(\"Account locked. Too many failed attempts.\")\n",
    "\n",
    ">>>Comparison with for Loop (Less Suitable)\n",
    "A for loop would require guessing the max attempts upfront, making it less intuitive:\n",
    "\n",
    "for _ in range(3):  \n",
    "    user_input = input(\"Enter password: \")\n",
    "    if user_input == correct_password:\n",
    "        print(\"Access granted!\")\n",
    "        break\n",
    "else:\n",
    "    print(\"Account locked.\")\n"
   ]
  },
  {
   "cell_type": "code",
   "execution_count": 8,
   "id": "13ed2d22-8ac1-4f6f-a090-e6c67afffdee",
   "metadata": {},
   "outputs": [],
   "source": [
    "#practical question"
   ]
  },
  {
   "cell_type": "code",
   "execution_count": 14,
   "id": "a0c80835-e592-4587-b457-1427ed22d3c6",
   "metadata": {},
   "outputs": [
    {
     "name": "stdout",
     "output_type": "stream",
     "text": [
      "hello world\n"
     ]
    }
   ],
   "source": [
    "# 1)Write a Python program to print \"Hello, World!\"\n",
    "\n",
    "print(\"hello world\")"
   ]
  },
  {
   "cell_type": "code",
   "execution_count": 24,
   "id": "94ad7afc-d95b-41d8-890c-e9ddb3093f6c",
   "metadata": {},
   "outputs": [
    {
     "name": "stdin",
     "output_type": "stream",
     "text": [
      "enter your name shaik fayaz ahmmed\n",
      "enter your agr 25\n"
     ]
    },
    {
     "name": "stdout",
     "output_type": "stream",
     "text": [
      "my name is shaik fayaz ahmmed and my age 25\n"
     ]
    }
   ],
   "source": [
    "# 2)Write a Python program that displays your name and age\n",
    "name=(input(\"enter your name\"))\n",
    "age=(int(input(\"enter your agr\")))\n",
    "print(\"my name is {} and my age {}\".format(name,age))"
   ]
  },
  {
   "cell_type": "code",
   "execution_count": 50,
   "id": "58100258-8eb9-4bc5-8cd9-5c5db240233a",
   "metadata": {},
   "outputs": [
    {
     "name": "stdout",
     "output_type": "stream",
     "text": [
      "python keywords\n",
      "False\n",
      "None\n",
      "True\n",
      "and\n",
      "as\n",
      "assert\n",
      "async\n",
      "await\n",
      "break\n",
      "class\n",
      "continue\n",
      "def\n",
      "del\n",
      "elif\n",
      "else\n",
      "except\n",
      "finally\n",
      "for\n",
      "from\n",
      "global\n",
      "if\n",
      "import\n",
      "in\n",
      "is\n",
      "lambda\n",
      "nonlocal\n",
      "not\n",
      "or\n",
      "pass\n",
      "raise\n",
      "return\n",
      "try\n",
      "while\n",
      "with\n",
      "yield\n"
     ]
    }
   ],
   "source": [
    "# 3)Write code to print all the pre-defined keywords in Python using the keyword library\n",
    "import keyword\n",
    "keywords_list = keyword.kwlist\n",
    "print(\"python keywords\")\n",
    "for kw in keywords_list:\n",
    "    print(kw)"
   ]
  },
  {
   "cell_type": "code",
   "execution_count": 65,
   "id": "3e3de7a9-38af-4061-827f-8bcd88804814",
   "metadata": {},
   "outputs": [
    {
     "name": "stdin",
     "output_type": "stream",
     "text": [
      "enter a word to chek if it's a python keyword: def\n"
     ]
    },
    {
     "name": "stdout",
     "output_type": "stream",
     "text": [
      " 'def' is a python keyword\n"
     ]
    }
   ],
   "source": [
    "# 4)Write a program that checks if a given word is a Python keyword\n",
    "\n",
    "import keyword\n",
    "def is_python_keyword(word):\n",
    "    return keyword.iskeyword(word)\n",
    "\n",
    "user_word=input(\"enter a word to chek if it's a python keyword:\")\n",
    "if is_python_keyword(user_word):\n",
    "    print(f\" '{user_word}' is a python keyword\")\n",
    "else:\n",
    "    print(f\" '{user_word}' is not python keyword\")"
   ]
  },
  {
   "cell_type": "code",
   "execution_count": 77,
   "id": "6509acc4-960a-44ef-8f44-6ba528537bc8",
   "metadata": {},
   "outputs": [
    {
     "name": "stdout",
     "output_type": "stream",
     "text": [
      "('fayaz', 'ahmmed', 'shaik', 'kadder')\n",
      "4\n",
      "<class 'tuple'>\n",
      "ahmmed\n"
     ]
    }
   ],
   "source": [
    "# 5) Create a list and tuple in Python, and demonstrate how attempting to change an element works differently for each.\n",
    "\n",
    "my_tuple=(\"fayaz\", \"ahmmed\", \"shaik\", \"kadder\")\n",
    "print(my_tuple)\n",
    "print(len(my_tuple))\n",
    "print(type(my_tuple))\n",
    "print(my_tuple[1])\n",
    "\n",
    "\n"
   ]
  },
  {
   "cell_type": "code",
   "execution_count": 101,
   "id": "b2c8c2f7-14cc-472e-9022-260730521abd",
   "metadata": {},
   "outputs": [
    {
     "name": "stdout",
     "output_type": "stream",
     "text": [
      "['fayaz', 'king', 'shaik', 1, 2, 3]\n",
      "['fayaz', 'king', 'shaik', 1, 2, 3, 'ahmmed']\n",
      "['fayaz', 'king', 'shaik', 1, 2, 'ahmmed']\n"
     ]
    },
    {
     "ename": "TypeError",
     "evalue": "'tuple' object does not support item assignment",
     "output_type": "error",
     "traceback": [
      "\u001b[1;31m---------------------------------------------------------------\u001b[0m",
      "\u001b[1;31mTypeError\u001b[0m                     Traceback (most recent call last)",
      "Cell \u001b[1;32mIn[101], line 14\u001b[0m\n\u001b[0;32m     12\u001b[0m \u001b[38;5;66;03m#immutable argument\u001b[39;00m\n\u001b[0;32m     13\u001b[0m my_tuple\u001b[38;5;241m=\u001b[39m(\u001b[38;5;124m\"\u001b[39m\u001b[38;5;124mfayaz\u001b[39m\u001b[38;5;124m\"\u001b[39m, \u001b[38;5;124m\"\u001b[39m\u001b[38;5;124mahmmed\u001b[39m\u001b[38;5;124m\"\u001b[39m, \u001b[38;5;124m\"\u001b[39m\u001b[38;5;124mshaik\u001b[39m\u001b[38;5;124m\"\u001b[39m, \u001b[38;5;241m99\u001b[39m)\n\u001b[1;32m---> 14\u001b[0m my_tuple[\u001b[38;5;241m0\u001b[39m]\u001b[38;5;241m=\u001b[39m\u001b[38;5;124m\"\u001b[39m\u001b[38;5;124mking\u001b[39m\u001b[38;5;124m\"\u001b[39m\n\u001b[0;32m     15\u001b[0m \u001b[38;5;28mprint\u001b[39m(my_tuple)\n",
      "\u001b[1;31mTypeError\u001b[0m: 'tuple' object does not support item assignment"
     ]
    }
   ],
   "source": [
    "# 6)Write a function to demonstrate the behavior of mutable and immutable arguments.\n",
    "#mutable argument\n",
    "my_list=[\"fayaz\", \"king\", \"shaik\", 1, 2, 3]\n",
    "print(my_list)\n",
    "\n",
    "my_list.append(\"ahmmed\")\n",
    "print(my_list)\n",
    "\n",
    "my_list.remove(3)\n",
    "print(my_list)\n",
    "\n",
    "#immutable argument\n",
    "my_tuple=(\"fayaz\", \"ahmmed\", \"shaik\", 99)\n",
    "my_tuple[0]=\"king\"\n",
    "print(my_tuple)\n"
   ]
  },
  {
   "cell_type": "code",
   "execution_count": 117,
   "id": "97aa218a-a622-4e26-8c68-e0f3e3edecdd",
   "metadata": {},
   "outputs": [
    {
     "name": "stdin",
     "output_type": "stream",
     "text": [
      "enter the number 99\n",
      "enter the number 1\n"
     ]
    },
    {
     "data": {
      "text/plain": [
       "100"
      ]
     },
     "execution_count": 117,
     "metadata": {},
     "output_type": "execute_result"
    }
   ],
   "source": [
    "# 7) Write a program that performs basic arithmetic operations on two user-input numbers\n",
    "a=(int(input(\"enter the number\")))\n",
    "b=(int(input(\"enter the number\")))\n",
    "a+b\n"
   ]
  },
  {
   "cell_type": "code",
   "execution_count": 134,
   "id": "d0d50301-dcca-4c44-a1fb-81e0508cb748",
   "metadata": {},
   "outputs": [
    {
     "name": "stdin",
     "output_type": "stream",
     "text": [
      "enter your age 19\n"
     ]
    },
    {
     "name": "stdout",
     "output_type": "stream",
     "text": [
      "your are eligible for driving linces\n"
     ]
    }
   ],
   "source": [
    "#8) Write a program to demonstrate the use of logical operators\n",
    "age=(int(input(\"enter your age\")))\n",
    "if age>=18:\n",
    "     print(\"your are eligible for driving linces\")\n",
    "else:\n",
    "     print(\"your are not eligible for driving linces\")"
   ]
  },
  {
   "cell_type": "code",
   "execution_count": 1,
   "id": "a4dab5d9-75c3-49cf-b11a-cd995a1de12e",
   "metadata": {},
   "outputs": [
    {
     "name": "stdin",
     "output_type": "stream",
     "text": [
      "enter type your number 88\n"
     ]
    },
    {
     "name": "stdout",
     "output_type": "stream",
     "text": [
      "<class 'str'>\n",
      "<class 'int'>\n",
      "<class 'float'>\n",
      "<class 'bool'>\n"
     ]
    }
   ],
   "source": [
    "#9). Write a Python program to convert user input from string to integer, float, and boolean types\n",
    "\n",
    "a=(input(\"enter type your number\"))\n",
    "print(type(a))\n",
    "print(type(int(a))) \n",
    "print(type(float(a)))\n",
    "print(type(bool(a)))"
   ]
  },
  {
   "cell_type": "code",
   "execution_count": 5,
   "id": "68c20f33-d2a3-4857-bcd1-332e6930b550",
   "metadata": {},
   "outputs": [
    {
     "name": "stdout",
     "output_type": "stream",
     "text": [
      "Original: 100, Type: <class 'int'>\n",
      "Casted: 100.0, Type: <class 'float'>\n",
      "Original: 200, Type: <class 'int'>\n",
      "Casted: 200, Type: <class 'str'>\n"
     ]
    }
   ],
   "source": [
    "#10)Write code to demonstrate type casting with list elements.\n",
    "my_list = [100, 200, 345, 654]\n",
    "\n",
    "first_element_float = float(my_list[0])\n",
    "print(f\"Original: {my_list[0]}, Type: {type(my_list[0])}\")\n",
    "print(f\"Casted: {first_element_float}, Type: {type(first_element_float)}\")\n",
    "\n",
    "\n",
    "second_element_str = str(my_list[1])\n",
    "print(f\"Original: {my_list[1]}, Type: {type(my_list[1])}\")\n",
    "print(f\"Casted: {second_element_str}, Type: {type(second_element_str)}\")"
   ]
  },
  {
   "cell_type": "code",
   "execution_count": 39,
   "id": "20b4cac7-50a5-4fc2-b68d-fe5b47b67d92",
   "metadata": {},
   "outputs": [
    {
     "name": "stdin",
     "output_type": "stream",
     "text": [
      "enter the number check 7\n"
     ]
    },
    {
     "name": "stdout",
     "output_type": "stream",
     "text": [
      "given number is positive\n"
     ]
    }
   ],
   "source": [
    "#11)Write a program that checks if a number is positive, negative, or zero\n",
    "\n",
    "a=(int(input(\"enter the number check\")))\n",
    "if a<0:\n",
    "    print(\"given number is negive\")\n",
    "else:\n",
    "    if a==0:\n",
    "        print(\"given number is zero\")\n",
    "    else:\n",
    "        if a>0:\n",
    "            print(\"given number is positive\")\n"
   ]
  },
  {
   "cell_type": "code",
   "execution_count": 45,
   "id": "4cfb5fd2-1311-4198-a1c3-5aab69a98d43",
   "metadata": {},
   "outputs": [
    {
     "name": "stdout",
     "output_type": "stream",
     "text": [
      "1\n",
      "2\n",
      "3\n",
      "4\n",
      "5\n",
      "6\n",
      "7\n",
      "8\n",
      "9\n",
      "10\n"
     ]
    }
   ],
   "source": [
    "#12) Write a for loop to print numbers from 1 to 10.\n",
    "\n",
    "for i in range(1,11):\n",
    "    print(i)"
   ]
  },
  {
   "cell_type": "code",
   "execution_count": 53,
   "id": "c4a2794a-41ce-4660-b120-ded159d38cac",
   "metadata": {},
   "outputs": [
    {
     "name": "stdout",
     "output_type": "stream",
     "text": [
      "0\n",
      "2\n",
      "4\n",
      "6\n",
      "8\n",
      "10\n",
      "12\n",
      "14\n",
      "16\n",
      "18\n",
      "20\n",
      "22\n",
      "24\n",
      "26\n",
      "28\n",
      "30\n",
      "32\n",
      "34\n",
      "36\n",
      "38\n",
      "40\n",
      "42\n",
      "44\n",
      "46\n",
      "48\n",
      "50\n"
     ]
    }
   ],
   "source": [
    "#13) Write a Python program to find the sum of all even numbers between 1 and 50.\n",
    "for i in range(0,51):\n",
    "    if i%2==0:\n",
    "        print(i)"
   ]
  },
  {
   "cell_type": "code",
   "execution_count": 57,
   "id": "0cdfc04e-c19b-47e4-ac76-0e95a5514d01",
   "metadata": {},
   "outputs": [
    {
     "name": "stdout",
     "output_type": "stream",
     "text": [
      "orginal string:vijayawada\n",
      "reversed string:adawayajiv\n"
     ]
    }
   ],
   "source": [
    "#14) Write a program to reverse a string using a while loop.\n",
    "\n",
    "def reverse_string(text):\n",
    "    reversed_text=\"\"\n",
    "    index = len(text)-1\n",
    "    while index>=0:\n",
    "        reversed_text+=text[index]\n",
    "        index-=1\n",
    "    return reversed_text\n",
    "\n",
    "my_string=\"vijayawada\"\n",
    "reversed_string=reverse_string(my_string)\n",
    "print(f\"orginal string:{my_string}\")\n",
    "print(f\"reversed string:{reversed_string}\")\n",
    "    "
   ]
  },
  {
   "cell_type": "code",
   "execution_count": 1,
   "id": "141188e4-ac4d-41e9-a9bb-395b2c9541e0",
   "metadata": {},
   "outputs": [
    {
     "name": "stdin",
     "output_type": "stream",
     "text": [
      "Enter a non-negative integer:  6\n"
     ]
    },
    {
     "name": "stdout",
     "output_type": "stream",
     "text": [
      "The factorial of 6 is 720\n"
     ]
    }
   ],
   "source": [
    "#15). Write a Python program to calculate the factorial of a number provided by the user using a while loop\n",
    "def factorial(number):\n",
    "    if number < 0:\n",
    "        return \"Factorial is not defined for negative numbers\"\n",
    "    elif number == 0:\n",
    "        return 1\n",
    "    else:\n",
    "        factorial = 1\n",
    "        while number > 1:\n",
    "            factorial *= number\n",
    "            number -= 1\n",
    "        return factorial\n",
    "\n",
    "\n",
    "num = int(input(\"Enter a non-negative integer: \"))\n",
    "\n",
    "\n",
    "result = factorial(num)\n",
    "print(f\"The factorial of {num} is {result}\")"
   ]
  },
  {
   "cell_type": "code",
   "execution_count": null,
   "id": "aba65e50-1c36-4d1e-87bc-535f1f18d971",
   "metadata": {},
   "outputs": [],
   "source": []
  }
 ],
 "metadata": {
  "kernelspec": {
   "display_name": "Python [conda env:base] *",
   "language": "python",
   "name": "conda-base-py"
  },
  "language_info": {
   "codemirror_mode": {
    "name": "ipython",
    "version": 3
   },
   "file_extension": ".py",
   "mimetype": "text/x-python",
   "name": "python",
   "nbconvert_exporter": "python",
   "pygments_lexer": "ipython3",
   "version": "3.12.7"
  }
 },
 "nbformat": 4,
 "nbformat_minor": 5
}
