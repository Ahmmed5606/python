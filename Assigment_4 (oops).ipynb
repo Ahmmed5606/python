{
  "nbformat": 4,
  "nbformat_minor": 0,
  "metadata": {
    "colab": {
      "provenance": []
    },
    "kernelspec": {
      "name": "python3",
      "display_name": "Python 3"
    },
    "language_info": {
      "name": "python"
    }
  },
  "cells": [
    {
      "cell_type": "markdown",
      "source": [
        "1) What is Object-Oriented Programming (OOP)?\n",
        "\n",
        "\n",
        "Ans:- object_oriented prgramming (opp) is a programming pradigm that organie\n",
        "\n",
        "\n",
        "\n",
        "*  software design around object, which are intance of classes.\n",
        "\n",
        "* These objects can contian both data (attribute or propertie) and methods (functions that operate on the data)\n",
        "\n",
        "\n",
        "* OOP is widely used because it promotes modularity, reusability, and scalability in code.\n",
        "\n",
        "* key concept of oop\n",
        "* Class: a blueprint or trmplete for creating object. It defined properties and mrthod\n",
        "\n",
        " class Car:\n",
        "    def __init__(self, brand, model):\n",
        "        self.brand = brand\n",
        "        self.model = model\n",
        "\n",
        "\n",
        "* Object: An instance of a class.\n",
        "\n",
        "my_car = Car(\"Toyota\", \"Corolla\")\n",
        "\n",
        "* Encapsulation: Bundling data and methods that operate on the data within one unit (class), and restricting access to some of the object’s components.   \n",
        "\n",
        "class BankAccount:\n",
        "    def __init__(self, balance):\n",
        "        self.__balance = balance  # private attribute\n",
        "\n",
        "    def deposit(self, amount):\n",
        "        self.__balance += amount\n",
        "\n",
        "    def get_balance(self):\n",
        "        return self.__balance\n",
        "\n",
        "* Inheritance: A mechanism where one class (child/subclass) can inherit the properties and methods of another (parent/superclass).\n",
        "\n",
        "class Vehicle:\n",
        "    def move(self):\n",
        "        print(\"Moving...\")\n",
        "\n",
        "class Car(Vehicle):\n",
        "    def honk(self):\n",
        "        print(\"Beep!\")\n",
        "\n",
        "* Polymorphism: The ability to present the same interface for different data types. It allows different classes to be treated through the same interface.\n",
        "\n",
        "class Dog:\n",
        "    def speak(self):\n",
        "        return \"Woof!\"\n",
        "\n",
        "class Cat:\n",
        "    def speak(self):\n",
        "        return \"Meow!\"\n",
        "\n",
        "def animal_sound(animal):\n",
        "    print(animal.speak())\n",
        "\n",
        "animal_sound(Dog())\n",
        "animal_sound(Cat())\n",
        "\n",
        "*  Abstraction: Hiding complex implementation details and showing only the necessary features.\n",
        "\n",
        "\n",
        "from abc import ABC, abstractmethod\n",
        "\n",
        "class Animal(ABC):\n",
        "    @abstractmethod\n",
        "    def make_sound(self):\n",
        "        pass\n",
        "\n",
        "class Cow(Animal):\n",
        "    def make_sound(self):\n",
        "        return \"Moo\"\n",
        "\n",
        "\n",
        "\n",
        "\n",
        "\n",
        "\n",
        "\n"
      ],
      "metadata": {
        "id": "r1SdPstllpIH"
      }
    },
    {
      "cell_type": "markdown",
      "source": [
        "2) What is a class in OOP?\n",
        "\n",
        "Ans:-  In Object-Oriented Programming (OOP), a\n",
        "class is a blueprint or template for creating objects.\n",
        "\n",
        "It defines the attributes (also called properties or fields) and methods (functions or behaviors) that the objects created from the class will have.\n",
        "\n",
        "**key points**\n",
        "\n",
        "\n",
        "*   A class does not hold actual data, but defined what data (attributes) and behavior (method) its object should have\n",
        "* An object is an instance of a class, meaning it's a rea entity created based on the class blueprint\n",
        "\n",
        "**Example**\n",
        "\n",
        "class Car:\n",
        "    \n",
        "    def __init__(self, brand, model):\n",
        "        self.brand = brand\n",
        "        self.model = model\n",
        "\n",
        "    def start_engine(self):\n",
        "        print(f\"{self.brand} {self.model} engine started.\")\n",
        "\n",
        "Here:\n",
        "\n",
        "* car is the class\n",
        "* brand and model are attributres\n",
        "*start_engine() is a method.\n",
        "* self refers to the instance (object)of the class\n",
        "\n",
        "**Create a object**\n",
        "\n",
        "my_car = Car(\"toyota\", \"corolla\")\n",
        "mt_car.start_engine()\n",
        "\n",
        "**output**\n",
        "\n",
        "toyota corolla engine started"
      ],
      "metadata": {
        "id": "epe2nbtdQWRJ"
      }
    },
    {
      "cell_type": "markdown",
      "source": [
        "3) What is an object in OOP?\n",
        "\n",
        "Ans:-\n",
        " * In Object-Oriented Programming (OOP), an object is an instance of a class.\n",
        "\n",
        "* It represents a real-world entity that has\n",
        "\n",
        "* Attributes (also called properties or fields)-- describe the object's state.\n",
        "\n",
        "* Method (function) -- define behavior of the object\n",
        "\n",
        "* A class is a blue print (like a blueprint for buiding a house).\n",
        "\n",
        "* An object is the actual house built from that blueprint\n",
        "\n",
        "**Example**\n",
        "\n",
        "class Dog:\n",
        "    \n",
        "    def __init__(self, name, breed):\n",
        "        self.name = name\n",
        "        self.breed = breed\n",
        "\n",
        "    def bark(self):\n",
        "        print(f\"{self.name} says Woof!\")\n",
        "\n",
        "You can now create an object of the Dog class:\n",
        "\n",
        "my_dog = Dog(\"Buddy\", \"Golden Retriever\")\n",
        "my_dog.bark()  # Output: Buddy says Woof!\n",
        "\n",
        "\n"
      ],
      "metadata": {
        "id": "B7hQvPkhvtSR"
      }
    },
    {
      "cell_type": "markdown",
      "source": [
        "4) What is the difference between abstraction and encapsulation?\n",
        "\n",
        "Ans:-\n",
        " Abstraction and Encapsulation are two fundamental concepts in Object-Oriented Programming (OOP), and though they are related, they serve different purposes.\n",
        "\n",
        " **Abstraction**\n",
        "\n",
        " Definition:\n",
        "Abstraction is the process of hiding complex implementation details and showing only the essential features of an object.\n",
        "\n",
        "* Focus: On the functionality rather than how it is implemented.\n",
        "\n",
        "* Helps reduce complexity for the user.\n",
        "\n",
        "* Implemented using abstract classes or interfaces (in languages like Java, C++) and via methods and classes (in Python).\n",
        "\n",
        "**Example**\n",
        "\n",
        "When you use a car, you only need to know how to drive (steering, brakes, etc.), not how the engine works.\n",
        "\n",
        "\n",
        "class Animal:\n",
        "   \n",
        "    def make_sound(self):\n",
        "        pass  # abstract method\n",
        "\n",
        "class Dog(Animal):\n",
        "    \n",
        "    def make_sound(self):\n",
        "        print(\"Bark\")\n",
        "**Encapsulation**\n",
        "\n",
        "Definition:\n",
        "Encapsulation is the technique of bundling data (attributes) and methods that operate on that data within a single unit (class) and restricting direct access to some of the object’s components.\n",
        "\n",
        "* Focus: On protecting data.\n",
        "\n",
        "* Helps achieve data hiding and integrity.\n",
        "\n",
        "* Implemented using private, protected, and public access modifiers.\n",
        "\n",
        "**Example**\n",
        "\n",
        "class BankAccount:\n",
        "    \n",
        "    def __init__(self):\n",
        "        self.__balance = 0  # private attribute\n",
        "\n",
        "    def deposit(self, amount):\n",
        "        if amount > 0:\n",
        "            self.__balance += amount\n",
        "\n",
        "    def get_balance(self):\n",
        "        return self.__balance\n",
        "Here, __balance is hidden (private), and can only be accessed via method --- this is encapulatin.\n",
        "\n",
        "**Summary Table**\n",
        "\n",
        "| Feature     | Abstraction                           | Encapsulation                            |\n",
        "| ----------- | ------------------------------------- | ---------------------------------------- |\n",
        "| Purpose     | Hide complexity                       | Protect data                             |\n",
        "| Focus       | What the object does                  | How the object does it safely            |\n",
        "| Achieved by | Interfaces, abstract classes, methods | Access modifiers, getters/setters        |\n",
        "| Example     | `make_sound()` without logic detail   | Private `__balance` with `get_balance()` |\n"
      ],
      "metadata": {
        "id": "eFZnhUNA318z"
      }
    },
    {
      "cell_type": "markdown",
      "source": [
        "5) What are dunder methods in Python?\n",
        "\n",
        "Ans:-\n",
        "Dunder methods in Python (short for double underscore methods, also called magic methods) are special built-in methods with names that begin and end with double underscores, like __init__, __str__, __add__, etc.\n",
        "\n",
        "**Common Dunder Method**\n",
        "\n",
        "| Dunder Method                   | Purpose                                                              |\n",
        "| ------------------------------- | -------------------------------------------------------------------- |\n",
        "| `__init__(self, ...)`           | Constructor, called when an object is created.                       |\n",
        "| `__str__(self)`                 | Defines the string representation of the object (used by `print()`). |\n",
        "| `__repr__(self)`                | Official string representation (used in debugging).                  |\n",
        "| `__len__(self)`                 | Returns the length using `len(obj)`.                                 |\n",
        "| `__add__(self, other)`          | Defines behavior for `+` operator.                                   |\n",
        "| `__eq__(self, other)`           | Defines behavior for equality (`==`).                                |\n",
        "| `__lt__(self, other)`           | Less than (`<`).                                                     |\n",
        "| `__getitem__(self, key)`        | Accessing items using `obj[key]`.                                    |\n",
        "| `__setitem__(self, key, value)` | Assigning values using `obj[key] = value`.                           |\n",
        "| `__iter__(self)`                | Makes object iterable (for loops).                                   |\n",
        "| `__next__(self)`                | Gets the next value in an iteration.                                 |\n",
        "\n",
        "**Example**\n",
        "\n",
        "class Book:\n",
        "    \n",
        "    def __init__(self, title, pages):\n",
        "        self.title = title\n",
        "        self.pages = pages\n",
        "\n",
        "    def __str__(self):\n",
        "        return f\"{self.title} ({self.pages} pages)\"\n",
        "\n",
        "    def __len__(self):\n",
        "        return self.pages\n",
        "\n",
        "    def __add__(self, other):\n",
        "        return Book(f\"{self.title} + {other.title}\", self.pages + other.pages)\n",
        "\n",
        "book1 = Book(\"Python Basics\", 300)\n",
        "\n",
        "book2 = Book(\"Advanced Python\", 250)\n",
        "\n",
        "print(book1)            \n",
        "\n",
        "Python Basics (300 pages)\n",
        "print(len(book1))      \n",
        " 300\n",
        "\n",
        "print(book1 + book2)    \n",
        "\n",
        " Python Basics + Advanced Python (550 pages)\n"
      ],
      "metadata": {
        "id": "L0VWWGDF6N-i"
      }
    },
    {
      "cell_type": "markdown",
      "source": [
        "6) Explain the concept of inheritance in OOP?\n",
        "\n",
        "Ans:-\n",
        "* Inheritance is a fundamental OOP concept that allows one class (called the child or subclass) to inherit the properties and behaviors (attributes and methods) of another class (called the parent or superclass).\n",
        "\n",
        "* This promotes code reusability, extensibility, and organization.\n",
        "\n",
        "**Explain**\n",
        "\n",
        " Parent class\n",
        "\n",
        "class Animal:\n",
        "   \n",
        "    def __init__(self, name):\n",
        "        self.name = name\n",
        "\n",
        "    def speak(self):\n",
        "        print(\"Animal speaks\")\n",
        "\n",
        "Child class inherits from Animal\n",
        "\n",
        "class Dog(Animal):\n",
        "\n",
        "    def speak(self):\n",
        "        print(f\"{self.name} says Woof!\")\n",
        "\n",
        " Another child class\n",
        "\n",
        "class Cat(Animal):\n",
        "    \n",
        "    def speak(self):\n",
        "        print(f\"{self.name} says Meow!\")\n",
        "\n",
        " Creating objects\n",
        "\n",
        "dog = Dog(\"Buddy\")\n",
        "cat = Cat(\"Whiskers\")\n",
        "\n",
        "dog.speak()   # Buddy says Woof!\n",
        "cat.speak()   # Whiskers says Meow!\n",
        "\n",
        "**Types of Inheritance**\n",
        "\n",
        "| Type             | Description                                                             |\n",
        "| ---------------- | ----------------------------------------------------------------------- |\n",
        "| **Single**       | One child class inherits from one parent class.                         |\n",
        "| **Multiple**     | One child class inherits from multiple parent classes.                  |\n",
        "| **Multilevel**   | A class inherits from a child class, which inherits from another class. |\n",
        "| **Hierarchical** | Multiple child classes inherit from a single parent class.              |\n",
        "| **Hybrid**       | A combination of two or more types of inheritance.                      |\n",
        "\n",
        "**Example: Multilevel Inheitance**\n",
        "\n",
        "class Animal:\n",
        "   \n",
        "    def move(self):\n",
        "        print(\"Animal moves\")\n",
        "\n",
        "class Mammal(Animal):\n",
        "   \n",
        "    def feed_baby(self):\n",
        "        print(\"Feeds milk\")\n",
        "\n",
        "class Human(Mammal):\n",
        "   \n",
        "    def speak(self):\n",
        "        print(\"Human speaks\")\n",
        "\n",
        "person = Human()\n",
        "\n",
        "person.move()       # Animal moves\n",
        "\n",
        "person.feed_baby()  # Feeds milk\n",
        "\n",
        "person.speak()      # Human speaks\n"
      ],
      "metadata": {
        "id": "b1Z3rNBp7iO8"
      }
    },
    {
      "cell_type": "markdown",
      "source": [
        "7) What is polymorphism in OOP?\n",
        "Ans:-\n",
        "* Polymorphism means \"many forms\", and in Object-Oriented Programming (OOP), it allows objects of different classes to be treated as objects of a common superclass, yet they can behave differently.\n",
        "\n",
        "* It lets you call the same method on different objects and have each one respond in its own way.\n",
        "\n",
        "**Types of ploymorphism:**\n",
        "\n",
        "| Type                           | Description                                                                   | Example            |\n",
        "| ------------------------------ | ----------------------------------------------------------------------------- | ------------------ |\n",
        "| Overloading | Same method name with different parameters (not supported natively in Python) | Java/C++           |\n",
        "| Overriding      | Subclass provides specific implementation of a method from the superclass     | Python, Java, etc. |\n",
        "\n",
        "\n",
        "**Example in Python (overriding)**\n",
        "\n",
        "class Animal:\n",
        "    \n",
        "    def speak(self):\n",
        "        print(\"Animal makes a sound\")\n",
        "\n",
        "class Dog(Animal):\n",
        "    \n",
        "    def speak(self):\n",
        "        print(\"Dog barks\")\n",
        "\n",
        "class Cat(Animal):\n",
        "    \n",
        "    def speak(self):\n",
        "        print(\"Cat meows\")\n",
        "\n",
        "Polymorphic behavior\n",
        "\n",
        "animals = [Dog(), Cat(), Animal()]\n",
        "\n",
        "for animal in animals:\n",
        "    animal.speak()\n",
        "\n"
      ],
      "metadata": {
        "id": "GBrAEPsT9Z0X"
      }
    },
    {
      "cell_type": "markdown",
      "source": [
        "8) How is encapsulation achieved in Python?\n",
        "\n",
        "Ans:- Encapsulation in Python is achieved by restricting direct access to an object's internal data (attributes) and controlling it through methods. This helps protect the data from unintended modification and supports data hiding.\n",
        "\n",
        "**Techniques to Achieve Encapsulation in python**\n",
        "\n",
        "**Using Access Modifiers**\n",
        "\n",
        "Python doesn’t have strict access modifiers like private or protected, but it uses naming conventions to indicate the level of access.\n",
        "\n",
        "| Modifier  | Syntax        | Access Level                                   |\n",
        "| --------- | ------------- | ---------------------------------------------- |\n",
        "| Public    | `self.name`   | Accessible from anywhere                       |\n",
        "| Protected | `self._name`  | Meant for internal use (can still be accessed) |\n",
        "| Private   | `self.__name` | Name mangling: not directly accessible    \n",
        "\n",
        "\n",
        "**Example: Encapsulation with private variable**\n",
        "\n",
        "class BankAccount:\n",
        "    \n",
        "    def __init__(self, balance):\n",
        "        self.__balance = balance  # private attribute\n",
        "\n",
        "    def deposit(self, amount):\n",
        "        if amount > 0:\n",
        "            self.__balance += amount\n",
        "\n",
        "    def withdraw(self, amount):\n",
        "        if 0 < amount <= self.__balance:\n",
        "            self.__balance -= amount\n",
        "\n",
        "    def get_balance(self):\n",
        "        return self.__balance\n",
        "\n",
        "account = BankAccount(1000)\n",
        "\n",
        "account.deposit(500)\n",
        "\n",
        "print(account.get_balance())  # 1500\n",
        "\n",
        "Trying to access private variable directly\n",
        "\n",
        "print(account.__balance)    #  Error\n",
        "\n",
        "Still accessible with name mangling (not recommended)\n",
        "\n",
        "print(account._BankAccount__balance)  #  1500\n",
        "\n",
        "\n",
        "\n"
      ],
      "metadata": {
        "id": "49JxQF4fEVRP"
      }
    },
    {
      "cell_type": "markdown",
      "source": [
        "9) What is a constructor in Python ?\n",
        "\n",
        "Ans:-\n",
        "A constructor in Python is a special method used to initialize objects of a class. It is automatically called when a new object is created.\n",
        "\n",
        "In Python, the constructor method is always named:\n",
        "\n",
        "__init__()\n",
        "\n",
        "Purpose of the Constructor:\n",
        "\n",
        "* Set up initial values for object attributes.\n",
        "\n",
        "* Prepare the object for use immediately after it’s created.\n",
        "\n",
        "\n",
        "class ClassName:\n",
        "    \n",
        "    def __init__(self, parameters):\n",
        "        # initialization code\n",
        "\n",
        "* self refers to the current instance of the class.\n",
        "\n",
        "* You can pass any number of arguments to __init__.\n",
        "\n",
        "**Example**\n",
        "\n",
        "class Person:\n",
        "   \n",
        "    def __init__(self, name, age):\n",
        "        self.name = name\n",
        "        self.age = age\n",
        "\n",
        "    def introduce(self):\n",
        "        print(f\"My name is {self.name}, and I'm {self.age} years old.\")\n",
        "\n",
        " Creating an object\n",
        "\n",
        "p1 = Person(\"Alice\", 25)\n",
        "\n",
        "p1.introduce()\n",
        "\n",
        "**output**\n",
        "\n",
        "My name is Alice, and I'm 25 years old.\n",
        "\n",
        "**Types of Constructors in python :**\n",
        "\n",
        "| Type                          | Description                              |\n",
        "| ----------------------------- | ---------------------------------------- |\n",
        "| **Default constructor**       | Takes no parameters (except `self`)      |\n",
        "| **Parameterized constructor** | Takes arguments to initialize attributes |\n",
        "\n",
        "\n",
        "**Example:**\n",
        "\n",
        "class A:\n",
        "\n",
        "    def __init__(self):\n",
        "        print(\"Default constructor called\")\n",
        "\n"
      ],
      "metadata": {
        "id": "OxD9eSC2GPRX"
      }
    },
    {
      "cell_type": "markdown",
      "source": [
        "10) What are class and static methods in Python ?\n",
        "Ans:-\n",
        "Both class methods and static methods are types of methods that don't behave like regular instance methods, and they are used when you want to define behavior that's related to the class itself, not just one object.\n",
        "\n",
        "They are defined using special decorators: @classmethod and @staticmethod.\n",
        "\n",
        "**Class Method**\n",
        "\n",
        "* Declared with @classmethod decorator.\n",
        "\n",
        "* Takes cls (not self) as the first parameter, representing the class.\n",
        "\n",
        "* Can access or modify class-level attributes.\n",
        "\n",
        "* Often used for factory methods that create instances in specific ways.\n",
        "\n",
        "**Example**\n",
        "\n",
        "class Person:\n",
        "    \n",
        "    species = \"Human\"\n",
        "\n",
        "    def __init__(self, name):\n",
        "        self.name = name\n",
        "\n",
        "    @classmethod\n",
        "    def get_species(cls):\n",
        "        return cls.species\n",
        "\n",
        "**output**\n",
        "\n",
        "print(Person.get_species())  # Human\n",
        "\n",
        "\n",
        "**Summary Table:**\n",
        "\n",
        "| Feature          | Instance Method | Class Method            | Static Method           |\n",
        "| ---------------- | --------------- | ----------------------- | ----------------------- |\n",
        "| Decorator        | None            | `@classmethod`          | `@staticmethod`         |\n",
        "| First argument   | `self`          | `cls`                   | None                    |\n",
        "| Access instance? |  Yes           |  No                    |  No                    |\n",
        "| Access class?    |  Indirectly    | Yes                   | No                    |\n",
        "| Use case         | Normal behavior | Factory/class-level ops | Utility/helper function |\n",
        "\n"
      ],
      "metadata": {
        "id": "LR_jdcIEIOzl"
      }
    },
    {
      "cell_type": "markdown",
      "source": [
        "11) What is method overloading in Python ?\n",
        "\n",
        "Ans:-\n",
        "\n",
        "* Method overloading means defining multiple methods with the same name but different parameters (number or type).\n",
        "* It allows a class to handle different kinds of inputs with the same method name.\n",
        "* This is common in languages like Java or C++, but in Python, method overloading is not supported in the traditional sense.\n",
        "\n",
        "Instead, python handles it using:\n",
        "* defult arguments\n",
        "* variable arguments (*args,**kwargs)\n",
        "* manual checking of parameter types or counts inside a single method\n",
        "\n",
        "**Example:**\n",
        "\n",
        "class Greet:\n",
        "    \n",
        "    def say_hello(self, name=None):\n",
        "        if name:\n",
        "            print(f\"Hello, {name}!\")\n",
        "        else:\n",
        "            print(\"Hello!\")\n",
        "\n",
        "g = Greet()\n",
        "g.say_hello()           # Hello!\n",
        "g.say_hello(\"Alice\")    # Hello, Alice!\n",
        "\n",
        "**Example:(using *args)**\n",
        "\n",
        "class Calculator:\n",
        "    \n",
        "    def add(self, *args):\n",
        "        return sum(args)\n",
        "\n",
        "calc = Calculator()\n",
        "\n",
        "print(calc.add(2, 3))            # 5\n",
        "\n",
        "print(calc.add(1, 2, 3, 4))      # 10\n",
        "\n",
        "* But in python method overloding is not support\n",
        "\n",
        "**Example**\n",
        "\n",
        "class Demo:\n",
        "\n",
        "    def show(self, a):\n",
        "        print(a)\n",
        "\n",
        "    def show(self, a, b):  # This will overwrite the previous 'show'\n",
        "        print(a, b)\n",
        "\n",
        "d = Demo()\n",
        "\n",
        "d.show(5)  \n",
        "\n",
        "Error: missing 1 required positional argument\n",
        "\n",
        "**Summary**\n",
        "\n",
        "| Feature                 | Python Support | Notes                                    |\n",
        "| ----------------------- | -------------- | ---------------------------------------- |\n",
        "| Traditional overloading |  No           | Only one method of a given name is kept  |\n",
        "| Workaround methods      |  Yes          | Use default args, `*args`, `**kwargs`    |\n",
        "| Method overriding       |  Yes          | Supported via inheritance (polymorphism) |\n"
      ],
      "metadata": {
        "id": "3eLVmOVEJ0FI"
      }
    },
    {
      "cell_type": "markdown",
      "source": [
        "12) What is method overriding in OOP?\n",
        "\n",
        "Ans:-\n",
        "Method overriding is a feature in object-oriented programming that allows a subclass to provide a specific implementation of a method that is already defined in its parent class.\n",
        "\n",
        "It enables runtime polymorphism, where the method that gets called is determined by the object’s actual class, not the reference type.\n",
        "\n",
        "**Syntax**\n",
        "* This concept allows a subclass or child class to provide its own implementation of a method already defined in its superclass or parent class.\n",
        "\n",
        "**Example**\n",
        "\n",
        "class Animal:\n",
        "    \n",
        "    def speak(self):\n",
        "        print(\"Animal makes a sound\")\n",
        "\n",
        "class Dog(Animal):\n",
        "    \n",
        "    def speak(self):  # Overriding the parent method\n",
        "        print(\"Dog barks\")\n",
        "\n",
        "class Cat(Animal):\n",
        "    \n",
        "    def speak(self):  # Overriding the parent method\n",
        "        print(\"Cat meows\")\n",
        "\n",
        "//(Polymorphism in action)//\n",
        "\n",
        "for animal in [Dog(), Cat(), Animal()]:\n",
        "    animal.speak()\n",
        "\n",
        "**output**\n",
        "\n",
        "Dog barks\n",
        "\n",
        "Cat meows\n",
        "\n",
        "Animal makes a sound\n",
        "\n",
        "Even though we are calling the same method speak(), the behavior depends on the actual object-- this is method overriding.\n",
        "\n",
        "**Using (super()) to call parent's Method:**\n",
        "\n",
        "class Bird:\n",
        "    \n",
        "    def fly(self):\n",
        "        print(\"Bird can fly\")\n",
        "\n",
        "class Penguin(Bird):\n",
        "    \n",
        "    def fly(self):\n",
        "        super().fly()\n",
        "        print(\"Penguins cannot fly well\")\n",
        "\n",
        "p = Penguin()\n",
        "\n",
        "p.fly()\n",
        "\n",
        "**output**\n",
        "\n",
        "Bird can fly  \n",
        "\n",
        "Penguins cannot fly well\n",
        "\n"
      ],
      "metadata": {
        "id": "U8nOQQ0cPzKj"
      }
    },
    {
      "cell_type": "markdown",
      "source": [
        "13) What is a property decorator in Python?\n",
        "\n",
        "Ans:-\n",
        "The @property decorator in Python is used to turn a method into a \"getter\", so it can be accessed like an attribute but still behaves like a method.\n",
        "\n",
        "**Example**\n",
        "\n",
        "class Circle:\n",
        "\n",
        "    def __init__(self, radius):\n",
        "        self._radius = radius\n",
        "\n",
        "    @property\n",
        "    def area(self):\n",
        "        return 3.14 * (self._radius ** 2)\n",
        "\n",
        "c = Circle(5)\n",
        "\n",
        "print(c.area)\n",
        "\n",
        "Accessed like an attribute, but calculated\n",
        "\n",
        "no need to call c.area() --- it work like an attribute: c.area\n",
        "\n",
        "**Usage of  @property**\n",
        "\n",
        "* To control access to an attribute.\n",
        "\n",
        "* To make your interface clean and Pythonic.\n",
        "\n",
        "* To hide internal implementation details from the user.\n",
        "\n",
        "The (@property)  decorator in Python is a built-in function used to create managed attributes in object-oriented programming. It allows a class to define a method that behaves like a read-only attribute, enabling attribute access syntax while keeping the benefits of encapsulation.\n",
        "\n",
        "**Purpose of @property**\n",
        "\n",
        "* Encapsulates instance variables (usually marked as private with _)\n",
        "\n",
        "* Allows control over access to a class attribute\n",
        "\n",
        "* Enables computed properties (values calculated on the fly)\n",
        "\n",
        "* Makes code cleaner and more Pythonic\n",
        "\n",
        "\n",
        "**key concept**\n",
        "\n",
        "| Concept               | Description                                                     |\n",
        "| --------------------- | --------------------------------------------------------------- |\n",
        "| **Getter**            | Accesses a value via a method (using `@property`)               |\n",
        "| **Setter**            | Modifies a value via a method (using `@<property_name>.setter`) |\n",
        "| **Encapsulation**     | Keeps implementation hidden and secure                          |\n",
        "| **Computed property** | A value that's calculated when accessed, not stored             |\n",
        "\n",
        "**When you apply @property to a method, Python:**\n",
        "\n",
        "* Calls that method when the attribute is accessed.\n",
        "\n",
        "* Allows method-like control (validation, transformation) while appearing as a regular attribute.\n",
        "\n",
        "* Optionally allows @<property>.setter and @<property>.deleter to handle write and delete access.\n",
        "\n",
        "\n"
      ],
      "metadata": {
        "id": "ofDtGooXSO8q"
      }
    },
    {
      "cell_type": "markdown",
      "source": [
        "14) Why is polymorphism important in OOP?\n",
        "\n",
        "Ans:-\n",
        "Polymorphism means \"many forms\". In Object-Oriented Programming (OOP), polymorphism allows a single interface to represent different data types or behaviors.\n",
        "\n",
        "It enables objects of different classes to be treated through a common interface, while still exhibiting class-specific behaviors.\n",
        "\n",
        "**Importance of polymorphism**\n",
        "\n",
        "\n",
        "| Benefit                | Explanation                                                                             |\n",
        "| ---------------------- | --------------------------------------------------------------------------------------- |\n",
        "|  **Code Flexibility** | You can write code that works with different types of objects using a shared interface. |\n",
        "|  **Extensibility**    | New subclasses can be added with their own behaviors without changing existing code.    |\n",
        "|  **Cleaner Code**     | Reduces if/else or type-checking — you just call the method, and the object handles it. |\n",
        "|  **Runtime Decision** | The correct method is chosen based on the object’s actual class at **runtime**.         |\n",
        "\n",
        "\n",
        "**Types of polymorphism**\n",
        "\n",
        "| Type             | Description                                               | Python Support?               |\n",
        "| ---------------- | --------------------------------------------------------- | ----------------------------- |\n",
        "| **Compile-time** | Same method name with different signatures                | Not natively                |\n",
        "| **Runtime**      | Same method name behaves differently on different objects | Yes (via method overriding) |\n",
        "\n",
        "**Example**\n",
        "\n",
        "class Animal:\n",
        "   \n",
        "    def speak(self):\n",
        "        return \"Some sound\"\n",
        "\n",
        "class Dog(Animal):\n",
        "   \n",
        "    def speak(self):\n",
        "        return \"Bark\"\n",
        "\n",
        "class Cat(Animal):\n",
        "   \n",
        "    def speak(self):\n",
        "        return \"Meow\"\n",
        "\n",
        " Function that uses polymorphism\n",
        "\n",
        "def make_animal_speak(animal):\n",
        "    print(animal.speak())\n",
        "\n",
        " All these calls behave differently based on the object's class\n",
        "\n",
        "make_animal_speak(Dog())   # Output: Bark\n",
        "\n",
        "make_animal_speak(Cat())   # Output: Meow\n",
        "\n",
        "make_animal_speak(Animal()) # Output: Some sound\n",
        "\n",
        "**Real world**\n",
        "\n",
        "Think of the word \"draw()\" in a graphics app:\n",
        "\n",
        "* A Circle will draw a circle.\n",
        "\n",
        "* A Square will draw a square.\n",
        "\n",
        "* A Triangle will draw a triangle.\n",
        "\n",
        "But you only need to call shape.draw() — you don't care what type of shape it is; it will draw correctly because each class defines its own version.\n",
        "\n"
      ],
      "metadata": {
        "id": "fHJmsIWIZlKn"
      }
    },
    {
      "cell_type": "markdown",
      "source": [
        "15) What is an abstract class in Python?\n",
        "\n",
        "Ans:-\n",
        "An abstract class in Python is a class that cannot be instantiated directly. It is used as a blueprint for other classes, enforcing that certain methods must be implemented in any subclass.\n",
        "\n",
        " **Purpose of Abstract Classes**\n",
        "* To define common structure and behavior for all derived classes.\n",
        "\n",
        "* To ensure that certain methods are implemented in child classes.\n",
        "\n",
        "* To support code reusability and standardization in large applications.\n",
        "\n",
        "**Define an Abstract class in python**\n",
        "* use abc module (Abstract base classess)\n",
        "\n",
        "from abc import ABC, abstractmethod\n",
        "\n",
        "class Animal(ABC):  \n",
        "\n",
        "// Inheriting from ABC makes it abstract//\n",
        "    \n",
        "    @abstractmethod\n",
        "    def make_sound(self):\n",
        "        pass  # No implementation here\n",
        "\n",
        "\n",
        "\n",
        "**Example**\n",
        "\n",
        "from abc import ABC, abstractmethod\n",
        "\n",
        "class Animal(ABC):\n",
        "    \n",
        "    @abstractmethod\n",
        "    def make_sound(self):\n",
        "        pass\n",
        "\n",
        "class Dog(Animal):\n",
        "    \n",
        "    def make_sound(self):\n",
        "        return \"Bark\"\n",
        "\n",
        "class Cat(Animal):\n",
        "    \n",
        "    def make_sound(self):\n",
        "        return \"Meow\"\n",
        "\n",
        " dog = Animal()      # Error: Can't\n",
        "\n",
        " instantiate abstract class\n",
        "\n",
        "dog = Dog()\n",
        "\n",
        "print(dog.make_sound())  # Bark\n"
      ],
      "metadata": {
        "id": "lJGV6N2GcQTe"
      }
    },
    {
      "cell_type": "markdown",
      "source": [
        "16) What are the advantages of OOP?\n",
        "\n",
        "Ans:-\n",
        "Object-Oriented Programming (OOP) is a programming paradigm based on the concept of “objects”, which combine data and behavior. It provides a structured and modular way of writing code.\n",
        "\n",
        "**Advantages of oop**\n",
        "\n",
        "1. Modularity\n",
        "\n",
        "* Code is organized into classes, making it easier to manage.\n",
        "\n",
        "* Each class has a clear responsibility, promoting separation of concerns.\n",
        "\n",
        "**Example:** A User class handles login, while a Product class manages inventory.\n",
        "\n",
        "2. Reusability (DRY Principle)\n",
        "* Through inheritance, common code can be reused across classes.\n",
        "\n",
        "* You avoid rewriting the same logic in multiple places.\n",
        "\n",
        "**Example:** A base class Vehicle can be inherited by Car, Bike, etc.\n",
        "\n",
        "3. Encapsulation\n",
        "* Internal details of objects are hidden using private attributes/methods.\n",
        "\n",
        "* Objects control their own data through getters and setters or @property.\n",
        "\n",
        "**Example:** A BankAccount hides its balance and only allows deposit/withdraw methods.\n",
        "\n",
        "4. Polymorphism\n",
        "* Same method name can work differently on different classes.\n",
        "\n",
        "* Makes code more flexible and easier to extend.\n",
        "\n",
        "**Example:** All shapes have a draw() method, but each shape draws differently.\n",
        "\n",
        "5. Inheritance\n",
        "* Allows a new class to inherit attributes and methods from an existing class.\n",
        "\n",
        "* Promotes hierarchical classification and reduces redundancy.\n",
        "\n",
        "**Example:** Employee base class → Manager and Developer subclasses.\n",
        "\n",
        "6. Maintainability\n",
        "* OOP code is easier to update and modify, since related code is grouped together.\n",
        "\n",
        "* Changes in one class usually don't affect others.\n",
        "\n",
        "**Example:** If you change how User.authenticate() works, it doesn’t break the rest of the app.\n",
        "\n",
        "7. Scalability\n",
        "* Because of its modular nature, OOP is ideal for large and complex systems.\n",
        "\n",
        "* New features or classes can be added without rewriting existing code.\n",
        "\n",
        "8. Real-world modeling\n",
        "* OOP reflects real-world entities (person, car, account), making it easier to design and understand systems.\n",
        "\n"
      ],
      "metadata": {
        "id": "6OGGE26SdxOL"
      }
    },
    {
      "cell_type": "markdown",
      "source": [
        "17) What is the difference between a class variable and an instance variable ?\n",
        "\n",
        "Ans:-A class variable is a variable that is shared by all instances (objects) of a class. It is defined within the class but outside of any instance methods. Changes made to a class variable will reflect across all instances of the class.\n",
        "\n",
        "An instance variable, on the other hand, is unique to each object. It is defined inside methods (usually in the constructor __init__) using self, and it stores data that is specific to each instance.\n",
        "\n",
        "**key Difference**\n",
        "\n",
        "| Feature             | Class Variable                            | Instance Variable                    |\n",
        "| ------------------- | ----------------------------------------- | ------------------------------------ |\n",
        "| Definition Location | Inside the class but outside methods      | Inside methods, usually `__init__`   |\n",
        "| Scope               | Shared across all instances               | Belongs to a specific instance       |\n",
        "| Accessibility       | Accessed using the class name or instance | Accessed using the instance (object) |\n",
        "| Storage             | Stored in class memory                    | Stored in instance memory            |\n",
        "| Modification Impact | Affects all instances                     | Affects only the specific instance   |\n",
        "\n",
        "\n",
        "\n",
        "**class variable**\n",
        "\n",
        "* defined inide a class but outside any instance method\n",
        "* share across all instances of the class\n",
        "* changing the class variable will affect all instance (unless overriden)\n",
        "\n",
        "class Car:\n",
        "    \n",
        "    wheels = 4  # class variable\n",
        "\n",
        "car1 = Car()\n",
        "car2 = Car()\n",
        "\n",
        "print(car1.wheels)  # 4\n",
        "\n",
        "print(car2.wheels)  # 4\n",
        "\n",
        "Car.wheels = 6\n",
        "\n",
        "print(car1.wheels)  # 6\n",
        "\n",
        "print(car2.wheels)  # 6\n",
        "\n",
        "\n",
        "**Instance variable**\n",
        "* Defined inside a constructor (__init__) or other instance methods.\n",
        "\n",
        "* Unique to each instance of the class.\n",
        "\n",
        "* Changing an instance variable only affects that specific object.\n",
        "\n",
        "class Car:\n",
        "    \n",
        "    def __init__(self, color):\n",
        "        self.color = color  # instance variable\n",
        "\n",
        "car1 = Car(\"Red\")\n",
        "\n",
        "car2 = Car(\"Blue\")\n",
        "\n",
        "print(car1.color)  # Red\n",
        "\n",
        "print(car2.color)  # Blue\n"
      ],
      "metadata": {
        "id": "KMlVEqCRFqcT"
      }
    },
    {
      "cell_type": "markdown",
      "source": [
        "18) What is multiple inheritance in Python ?\n",
        "\n",
        "Ans:-\n",
        "Multiple inheritance is a feature in Python where a child class can inherit from more than one parent class. This means the child class can access the properties and methods of all its parent classes.\n",
        "\n",
        "In multiple inheritance, a class is defined with two or more base classes, and it inherits the functionality of all of them. Python supports multiple inheritance directly, unlike some other programming languages\n",
        "\n",
        "**Example**\n",
        "\n",
        "class A:\n",
        "    \n",
        "    def displayA(self):\n",
        "        print(\"Class A\")\n",
        "\n",
        "class B:\n",
        "    \n",
        "    def displayB(self):\n",
        "        print(\"Class B\")\n",
        "\n",
        "class C(A, B):  # Multiple Inheritance\n",
        "    \n",
        "    def displayC(self):\n",
        "        print(\"Class C\")\n",
        "\n",
        "obj = C()\n",
        "\n",
        "obj.displayA()  # From class A\n",
        "\n",
        "obj.displayB()  # From class B\n",
        "\n",
        "obj.displayC()  # From class C\n",
        "\n",
        "**Key Points:**\n",
        "\n",
        "* Python supports multiple inheritance directly using parentheses and comma-separated base classes.\n",
        "\n",
        "* Python uses the Method Resolution Order (MRO) to decide which method to call when there is a conflict (i.e., when multiple base classes have a method with the same name).\n",
        "\n",
        "* Allows code reuse from multiple classes.\n",
        "\n",
        "* Increases flexibility and power of object-oriented programming.\n",
        "\n",
        "\n",
        "**Advantages:**\n",
        "* Allows code reuse from multiple classes.\n",
        "\n",
        "* Supports a more flexible class structure.\n",
        "\n",
        "**Disadvantages:**\n",
        "\n",
        "* Can lead to complexity and confusion, especially if there are name conflicts between parent classes (also known as the Diamond Problem).\n",
        "\n",
        "\n"
      ],
      "metadata": {
        "id": "FdWNiQYmH4KA"
      }
    },
    {
      "cell_type": "markdown",
      "source": [
        "19) Explain the purpose of ‘’__str__’ and ‘__repr__’ ‘ methods in Python?\n",
        "\n",
        "Ans:-In Python, the __str__ and __repr__ methods are special methods used to define string representations of objects. They are automatically called when we try to print or inspect an object.\n",
        "\n",
        "**__str__ Method:**\n",
        "* The __str__ method is used to define a human-readable or user-friendly string representation of an object.\n",
        "\n",
        "* It is called when the object is passed to the print() function or when str() is used.\n",
        "\n",
        "* The purpose of __str__ is to provide a clear and readable description of the object for end users.\n",
        "\n",
        "class Person:\n",
        "    \n",
        "    def __init__(self, name):\n",
        "        self.name = name\n",
        "\n",
        "    def __str__(self):\n",
        "        return f\"Person's name is {self.name}\"\n",
        "\n",
        "p = Person(\"Alice\")\n",
        "\n",
        "print(p)  # Output: Person's name is Alice\n",
        "\n",
        "**__repr__ Method:**\n",
        "* The __repr__ method is used to define a developer-friendly or formal string representation of an object.\n",
        "\n",
        "* It is called by the repr() function or when the object is inspected in the interactive shell.\n",
        "\n",
        "* The goal of __repr__ is to provide a string that can recreate the object or be useful for debugging.\n",
        "\n",
        "class Person:\n",
        "    \n",
        "    def __init__(self, name):\n",
        "        self.name = name\n",
        "\n",
        "    def __repr__(self):\n",
        "        return f\"Person('{self.name}')\"\n",
        "\n",
        "p = Person(\"Alice\")\n",
        "\n",
        "print(repr(p))  # Output: Person('Alice')\n",
        "\n",
        "**Summary**\n",
        "\n",
        "| Method     | Purpose                       | Used for              | Output Style         |\n",
        "| ---------- | ----------------------------- | --------------------- | -------------------- |\n",
        "| `__str__`  | Readable string (user view)   | `print()`, `str()`    | Clean and friendly   |\n",
        "| `__repr__` | Debug string (developer view) | `repr()`, shell, logs | Precise and detailed |\n"
      ],
      "metadata": {
        "id": "ksLTJPYrJa7K"
      }
    },
    {
      "cell_type": "markdown",
      "source": [
        "20) What is the significance of the ‘super()’ function in Python ?\n",
        "\n",
        "Ans:-The super() function in Python is used to call methods from a parent class inside a child class. It allows access to the parent class's methods or constructors without directly naming the parent class. This is particularly useful in inheritance.\n",
        "\n",
        "**signification of super():**\n",
        "\n",
        " **Code Reusability:**\n",
        "Allows child classes to reuse the functionality of the parent class, reducing code duplication.\n",
        "\n",
        "**Improves Maintainability:**\n",
        "If the parent class name changes, super() avoids the need to manually update references.\n",
        "\n",
        "**Supports Multiple Inheritance:**\n",
        "super() follows Python’s Method Resolution Order (MRO), ensuring the correct order of method calls when multiple inheritance is used.\n",
        "\n",
        "**Simplifies Initialization:**\n",
        "In constructors (__init__), super() is used to initialize the parent class, ensuring the object is properly set up.\n",
        "\n",
        "**Example**\n",
        "\n",
        "class Animal:\n",
        "    \n",
        "    def __init__(self, name):\n",
        "        self.name = name\n",
        "\n",
        "class Dog(Animal):\n",
        "    \n",
        "    def __init__(self, name, breed):\n",
        "        super().__init__(name)  # Call the parent class constructor\n",
        "        self.breed = breed\n",
        "Here, super().__init__(name) calls the __init__ method of the Animal class, allowing the Dog class to reuse and extend its functionality.\n",
        "\n",
        "**Conclusion:**\n",
        "The super() function is a powerful tool in object-oriented programming. It simplifies method overriding, promotes clean code, and is essential in handling complex class hierarchies, especially with multiple inheritance."
      ],
      "metadata": {
        "id": "UqnU0kAsLT4k"
      }
    },
    {
      "cell_type": "markdown",
      "source": [
        "21) What is the significance of the __del__ method in Python ?\n",
        "\n",
        "Ans:-The __del__ method in Python is a special method known as a destructor. It is called automatically when an object is about to be destroyed (i.e., when it is no longer in use and is being garbage collected).\n",
        "\n",
        "**Significance:**\n",
        "\n",
        "1) The __del__ method is used to define cleanup behavior for objects.\n",
        "\n",
        "2) It is commonly used to release system resources, such as closing files or network connections, before the object is removed from memory.\n",
        "\n",
        "3) It allows you to customize what happens when an object is deleted, making the program more reliable in terms of resource management.\n",
        "\n",
        "**Key Points:**\n",
        "* It is defined using the syntax: def __del__(self):.\n",
        "\n",
        "* It is automatically invoked when the object is no longer in use.\n",
        "\n",
        "* The exact time when __del__ is called is not predictable, because it depends on the garbage collection process.\n",
        "\n",
        "**Example**\n",
        "\n",
        "class MyClass:\n",
        "\n",
        "    def __del__(self):\n",
        "        print(\"Destructor called. Object deleted.\")\n",
        "\n",
        "**Important's**\n",
        "* The exact time when __del__ is called is not guaranteed, because Python uses automatic garbage collection.\n",
        "\n",
        "* Relying heavily on __del__ is not recommended, especially for managing important resources.\n",
        "\n",
        "* For better control of resource management, Python recommends using context managers (with statements).\n",
        "\n",
        "\n",
        "**Conclusion:**\n",
        "The __del__ method is significant for defining what should happen when an object is destroyed. It helps in managing resources, but it should be used with caution due to the unpredictable timing of garbage collection.\n"
      ],
      "metadata": {
        "id": "GRw5hxmWNTJd"
      }
    },
    {
      "cell_type": "markdown",
      "source": [
        "22) What is the difference between @staticmethod and @classmethod in Python?\n",
        "\n",
        "Ans:-\n",
        "\n",
        "**@staticmethod**\n",
        "* A static method belongs to a class but does not access the class (cls) or instance (self) inside the method.\n",
        "\n",
        "* It behaves like a regular function defined inside a class’s namespace.\n",
        "\n",
        "* It cannot modify object state or class state.\n",
        "\n",
        "* Called using either the class name or an instance.\n",
        "\n",
        "**syntax**\n",
        "\n",
        "class MyClass:\n",
        "\n",
        "    @staticmethod\n",
        "    def static_method():\n",
        "        print(\"This is a static method\")\n",
        "\n",
        "\n",
        "**@classmethod**\n",
        "* A class method receives the class itself as the first argument, conventionally named cls.\n",
        "\n",
        "* It can access or modify the class state that applies across all instances.\n",
        "\n",
        "* Called using the class name or an instance, but it always gets the class as the first parameter.\n",
        "\n",
        "**Example**\n",
        "\n",
        "class MyClass:\n",
        "\n",
        "    count = 0\n",
        "\n",
        "    @classmethod\n",
        "    def class_method(cls):\n",
        "        cls.count += 1\n",
        "        print(f\"Count is {cls.count}\")\n",
        "\n",
        "\n",
        "**key Difference**\n",
        "\n",
        "| Feature         | `@staticmethod`                        | `@classmethod`                           |\n",
        "| --------------- | -------------------------------------- | ---------------------------------------- |\n",
        "| First parameter | No `self` or `cls`                     | Takes `cls` (the class) as parameter     |\n",
        "| Access          | Cannot access class or instance data   | Can access and modify class data         |\n",
        "| Use case        | Utility functions related to the class | Factory methods or modifying class state |\n",
        "| Called by       | Class or instance                      | Class or instance                        |\n",
        "\n",
        "**Summary:**\n",
        "\n",
        "* Use @staticmethod when the method neither needs the class nor the instance.\n",
        "\n",
        "* Use @classmethod when you need to access or modify the class state."
      ],
      "metadata": {
        "id": "1ivU90r9O4g2"
      }
    },
    {
      "cell_type": "markdown",
      "source": [
        "23) How does polymorphism work in Python with inheritance?\n",
        "\n",
        "Ans:- Polymorphism in Python allows objects of different classes related by inheritance to be treated as instances of a common superclass. It means the same operation or method call can behave differently depending on the actual object's class.\n",
        "\n",
        "**work with inheritance**\n",
        "\n",
        "* When a child class overrides a method of its parent class, Python decides which method to execute at runtime based on the actual object type. This is called method overriding.\n",
        "\n",
        "* This allows the same method name to invoke different behaviors for different classes.\n",
        "\n",
        "**Example**\n",
        "\n",
        "class Animal:\n",
        "    \n",
        "    def sound(self):\n",
        "        print(\"Some generic animal sound\")\n",
        "\n",
        "class Dog(Animal):\n",
        "    \n",
        "    def sound(self):\n",
        "        print(\"Bark\")\n",
        "\n",
        "class Cat(Animal):\n",
        "    \n",
        "    def sound(self):\n",
        "        print(\"Meow\")\n",
        "\n",
        "def make_sound(animal):\n",
        "    \n",
        "    animal.sound()\n",
        "\n",
        "dog = Dog()\n",
        "\n",
        "cat = Cat()\n",
        "\n",
        "make_sound(dog)  # Output: Bark\n",
        "\n",
        "make_sound(cat)  # Output: Meow\n",
        "\n",
        "Here, the function make_sound takes an Animal object, but at runtime, it calls the overridden sound() method depending on whether the object is a Dog or Cat.\n",
        "\n",
        "**Summary:**\n",
        "* Polymorphism allows one interface (method name) to have multiple implementations.\n",
        "\n",
        "* It relies on inheritance and method overriding.\n",
        "\n",
        "* It enhances flexibility and extensibility in code.\n",
        "\n",
        "\n"
      ],
      "metadata": {
        "id": "z-S5jxTrQdIx"
      }
    },
    {
      "cell_type": "markdown",
      "source": [
        "24) What is method chaining in Python OOP?\n",
        "\n",
        "Ans:-Method chaining is a technique in Python object-oriented programming where multiple methods are called on the same object consecutively in a single expression.\n",
        "\n",
        "Each method in the chain returns the object itself (usually self), allowing the next method to be called directly on that returned object.\n",
        "\n",
        "**use method chaining**\n",
        "\n",
        "* To write more concise and fluent code.\n",
        "\n",
        "* To improve readability by combining multiple method calls in one statement.\n",
        "\n",
        "**Example**\n",
        "\n",
        "class Person:\n",
        "    \n",
        "    def __init__(self, name):\n",
        "        self.name = name\n",
        "        self.age = 0\n",
        "\n",
        "    def set_age(self, age):\n",
        "        self.age = age\n",
        "        return self   # Returning self for chaining\n",
        "\n",
        "    def celebrate_birthday(self):\n",
        "        self.age += 1\n",
        "        return self   # Returning self for chaining\n",
        "\n",
        "    def display(self):\n",
        "        print(f\"{self.name} is {self.age} years old\")\n",
        "        return self   # Returning self for chaining\n",
        "\n",
        "Using method chaining\n",
        "\n",
        "p = Person(\"Alice\")\n",
        "\n",
        "p.set_age(30).celebrate_birthday().display()\n",
        "\n",
        "Output: Alice is 31 years old\n",
        "\n",
        "\n",
        "\n",
        "\n"
      ],
      "metadata": {
        "id": "eSBo4CtwSD-F"
      }
    },
    {
      "cell_type": "markdown",
      "source": [
        "25) What is the purpose of the __call__ method in Python?\n",
        "\n",
        "Ans:-\n",
        "The __call__ method is a special method in Python that allows an instance of a class to be called as if it were a regular function. When you use parentheses () after an object, Python internally invokes the object’s __call__ method.\n",
        "\n",
        "**Purpose and Significance:**\n",
        "* It makes an object callable, enabling function-like behavior.\n",
        "\n",
        "* Allows encapsulating behavior and state inside an object that can be invoked like a function.\n",
        "\n",
        "* Useful in situations such as function objects, decorators, or callbacks.\n",
        "\n",
        "* Enhances flexibility by combining the benefits of objects (state, attributes) and functions (callable).\n",
        "\n",
        "\n",
        "**Example**\n",
        "\n",
        "class Adder:\n",
        "    \n",
        "    def __init__(self, n):\n",
        "        self.n = n\n",
        "\n",
        "    def __call__(self, x):\n",
        "        return self.n + x\n",
        "\n",
        "add_five = Adder(5)\n",
        "\n",
        "print(add_five(10))  # Output: 15\n",
        "\n",
        "Here, add_five is an instance, but because it defines __call__, it can be used like a function.\n",
        "\n",
        "**Summary:**\n",
        "* Defining __call__ lets you use instances like functions.\n",
        "\n",
        "* It enables clean and expressive code where objects can perform actions simply by being “called.”\n",
        "\n",
        "* Supports advanced programming patterns such as function wrappers and functors.\n",
        "\n"
      ],
      "metadata": {
        "id": "AHvAC8hVTC2s"
      }
    },
    {
      "cell_type": "markdown",
      "source": [
        "Practical question\n"
      ],
      "metadata": {
        "id": "ykznvolwlhLs"
      }
    },
    {
      "cell_type": "code",
      "execution_count": null,
      "metadata": {
        "colab": {
          "base_uri": "https://localhost:8080/"
        },
        "id": "LjLn13tfzPG6",
        "outputId": "bb20e7fb-f7a0-4459-eef5-fff4d272dc56"
      },
      "outputs": [
        {
          "output_type": "stream",
          "name": "stdout",
          "text": [
            "Bark!\n"
          ]
        }
      ],
      "source": [
        "'''1. Create a parent class Animal with a method speak() that prints a generic message. Create a child class Dog\n",
        "that overrides the speak() method to print \"Bark!\"'''\n",
        "\n",
        "\n",
        "class Animal:\n",
        "  def speak(self):\n",
        "    print(\"bowe bowe\")\n",
        "\n",
        "\n",
        "class Dog(Animal):\n",
        "  def speak(self):\n",
        "    print(\"Bark!\")\n",
        "\n",
        "dog = Dog()\n",
        "dog.speak()"
      ]
    },
    {
      "cell_type": "code",
      "source": [
        "\n",
        "'''2. Write a program to create an abstract class Shape with a method area(). Derive classes Circle and Rectangle\n",
        "from it and implement the area() method in both.'''\n",
        "\n",
        "class Shape(ABC):\n",
        "  def area(self):\n",
        "    pass\n",
        "\n",
        "class Circle(Shape):\n",
        "  def area (self, radius):\n",
        "    self.radius = radius\n",
        "    return 3.14 * radius *radius\n",
        "class Rectangle(Shape):\n",
        "  def area (self, lenght, width):\n",
        "    self.lenght = lenght\n",
        "    self.width = width\n",
        "    return lenght * width\n",
        "\n",
        "circle = Circle()\n",
        "print(circle.area(10))\n",
        "\n",
        "rectangle  = Rectangle()\n",
        "print(rectangle.area (10, 5))\n"
      ],
      "metadata": {
        "colab": {
          "base_uri": "https://localhost:8080/"
        },
        "id": "qMBVGw7_0mU0",
        "outputId": "013e206d-01dd-4330-ef3c-584037423e2c"
      },
      "execution_count": null,
      "outputs": [
        {
          "output_type": "stream",
          "name": "stdout",
          "text": [
            "314.0\n",
            "50\n"
          ]
        }
      ]
    },
    {
      "cell_type": "code",
      "source": [
        "'''3. Implement a multi-level inheritance scenario where a class Vehicle has an attribute type. Derive a class Car\n",
        "and further derive a class ElectricCar that adds a battery attribute.'''\n",
        "\n",
        "class Vehicle:\n",
        "  def Vehicle_info (self, type):\n",
        "    self.type = type\n",
        "    print(f\"Vehicle type is {self.type}\")\n",
        "\n",
        "\n",
        "class Car(Vehicle) :\n",
        "  def Car_info (self, type, colour,):\n",
        "    self.type = type\n",
        "    self.colour = colour\n",
        "    print(f\"Car type is {self.type} and colour is {self.colour}\")\n",
        "\n",
        "class ElectricCar(Car):\n",
        "  def ElectricCar_info (self, type, model, bettery):\n",
        "    self.type = type\n",
        "    self.model = model\n",
        "    self.bettery = bettery\n",
        "    print(f\"ElectricCar type is {self.type}, model is {self.model} and bettery is {self.bettery}\")\n",
        "\n",
        "Vehicle = Vehicle()\n",
        "Vehicle.Vehicle_info(\"Four wheeler\")\n",
        "\n",
        "Car = Car()\n",
        "Car.Car_info(\"Four * Four\", \"Red\")\n",
        "\n",
        "ElectricCar = ElectricCar()\n",
        "ElectricCar.ElectricCar_info(\"Electric\", \"2024\", \"75000mkw\")\n",
        "\n",
        "ElectricCar.Car_info(\"off road \", \"Red\")\n",
        "Car.Vehicle_info(\"off road\")\n",
        "\n",
        "\n"
      ],
      "metadata": {
        "colab": {
          "base_uri": "https://localhost:8080/"
        },
        "id": "1ry4yLRR3nUw",
        "outputId": "1d04ccfd-2166-48a3-d097-522035f09d11"
      },
      "execution_count": null,
      "outputs": [
        {
          "output_type": "stream",
          "name": "stdout",
          "text": [
            "Vehicle type is Four wheeler\n",
            "Car type is Four * Four and colour is Red\n",
            "ElectricCar type is Electric, model is 2024 and bettery is 75000mkw\n",
            "Car type is off road  and colour is Red\n",
            "Vehicle type is off road\n"
          ]
        }
      ]
    },
    {
      "cell_type": "code",
      "source": [
        "'''4. Demonstrate polymorphism by creating a base class Bird with a method fly(). Create two derived classes\n",
        "Sparrow and Penguin that override the fly() method.'''\n",
        "\n",
        "class Bird :\n",
        "  def fly(self) :\n",
        "    print(\"Bird can fly\")\n",
        "\n",
        "class Sparrow(Bird) :\n",
        "  def fly(self):\n",
        "    print(\"sparrow can fly high in sky \")\n",
        "\n",
        "class Penguin(Bird) :\n",
        "  def fly(self) :\n",
        "    print(\"penguin can't fly\")\n",
        "\n",
        "def Bird_fly(bird):\n",
        "  bird.fly()\n",
        "\n",
        "\n",
        "bird = Bird()\n",
        "bird.fly()\n",
        "\n",
        "Sparrow = Sparrow()\n",
        "Sparrow.fly()\n",
        "\n",
        "Penguin = Penguin()\n",
        "Penguin.fly()\n"
      ],
      "metadata": {
        "colab": {
          "base_uri": "https://localhost:8080/"
        },
        "id": "81SDc4FEH8Jm",
        "outputId": "af09a4f6-e4b6-4852-cd5a-6382c1db9519"
      },
      "execution_count": null,
      "outputs": [
        {
          "output_type": "stream",
          "name": "stdout",
          "text": [
            "Bird can fly\n",
            "sparrow can fly high in sky \n",
            "penguin can't fly\n"
          ]
        }
      ]
    },
    {
      "cell_type": "code",
      "source": [
        "'''5. Write a program to demonstrate encapsulation by creating a class BankAccount with private attributes\n",
        "balance and methods to deposit, withdraw, and check balance.'''\n",
        "class BankAccount:\n",
        "  def __init__(self, balance):\n",
        "    self.__balance = balance\n",
        "\n",
        "  def deposit(self, amount):\n",
        "    self.__balance = self.__balance + amount\n",
        "\n",
        "  def withdraw(self, amount):\n",
        "    if self.__balance < amount:\n",
        "      print(\"Insufficient balance\")\n",
        "    else:\n",
        "      self.__balance = self.__balance - amount\n",
        "\n",
        "  def check_balance(self):\n",
        "    print(f\"Your balance is {self.__balance}\")\n",
        "    return self.__balance\n",
        "  def get_balance(self):\n",
        "    return self.__balance\n",
        "\n",
        "cust1 = BankAccount(500)\n",
        "cust1.deposit(1000)\n",
        "\n",
        "cust1.withdraw(1500)\n",
        "cust1.check_balance()"
      ],
      "metadata": {
        "id": "55H0AsCMOfCI",
        "colab": {
          "base_uri": "https://localhost:8080/"
        },
        "outputId": "f4b95c95-59b4-4291-b4b1-05945d5b0a1e"
      },
      "execution_count": null,
      "outputs": [
        {
          "output_type": "stream",
          "name": "stdout",
          "text": [
            "Your balance is 0\n"
          ]
        },
        {
          "output_type": "execute_result",
          "data": {
            "text/plain": [
              "0"
            ]
          },
          "metadata": {},
          "execution_count": 33
        }
      ]
    },
    {
      "cell_type": "code",
      "source": [
        "cust2 = BankAccount(500)\n",
        "cust2.deposit(7800)\n",
        "cust2.get_balance()"
      ],
      "metadata": {
        "colab": {
          "base_uri": "https://localhost:8080/"
        },
        "id": "klyvpz042Hev",
        "outputId": "62e1ba50-42e2-4b5a-887b-ada74aeb676b"
      },
      "execution_count": null,
      "outputs": [
        {
          "output_type": "execute_result",
          "data": {
            "text/plain": [
              "8300"
            ]
          },
          "metadata": {},
          "execution_count": 34
        }
      ]
    },
    {
      "cell_type": "code",
      "source": [
        "cust3 = BankAccount(500)\n",
        "cust3.withdraw(1000)\n",
        "cust3.check_balance()"
      ],
      "metadata": {
        "colab": {
          "base_uri": "https://localhost:8080/"
        },
        "id": "YgOjz8Vu2UoS",
        "outputId": "11289118-1500-4845-c9af-ad8bd942f738"
      },
      "execution_count": null,
      "outputs": [
        {
          "output_type": "stream",
          "name": "stdout",
          "text": [
            "Insufficient balance\n",
            "Your balance is 500\n"
          ]
        },
        {
          "output_type": "execute_result",
          "data": {
            "text/plain": [
              "500"
            ]
          },
          "metadata": {},
          "execution_count": 36
        }
      ]
    },
    {
      "cell_type": "code",
      "source": [
        "'''6. Demonstrate runtime polymorphism using a method play() in a base class Instrument. Derive classes Guitar\n",
        "and Piano that implement their own version of play()'''\n",
        "\n",
        "\n",
        "class Instrument:\n",
        "  def paly(self):\n",
        "    print(\"Instrument is playing\")\n",
        "\n",
        "\n",
        "class Guitar(Instrument) :\n",
        "  def play(self):\n",
        "    print(\"Guitar is playing\")\n",
        "\n",
        "class Piano(Instrument):\n",
        "  def play(self):\n",
        "    print(\"pino is playing\")\n",
        "\n",
        "def perform_play(instrument):\n",
        "  instrument.play()\n",
        "\n",
        "guitar = Guitar()\n",
        "\n",
        "pino = Piano()\n",
        "\n",
        "perform_play(guitar)\n",
        "perform_play(pino)"
      ],
      "metadata": {
        "colab": {
          "base_uri": "https://localhost:8080/"
        },
        "id": "GGETF2Rh4IOH",
        "outputId": "b8034b67-74a9-43e7-89d1-2502e6872575"
      },
      "execution_count": null,
      "outputs": [
        {
          "output_type": "stream",
          "name": "stdout",
          "text": [
            "Guitar is playing\n",
            "pino is playing\n"
          ]
        }
      ]
    },
    {
      "cell_type": "code",
      "source": [
        "'''7. Create a class MathOperations with a class method add_numbers() to add two numbers and a static\n",
        "method subtract_numbers() to subtract two numbers.'''\n",
        "class MathOperations:\n",
        "  @classmethod\n",
        "  def add_numbers (cls, x, y):\n",
        "    return x+y\n",
        "add = MathOperations.add_numbers(10,20)\n",
        "print(add) #continue on next coloum\n"
      ],
      "metadata": {
        "colab": {
          "base_uri": "https://localhost:8080/"
        },
        "id": "AO7PCUso6Gy_",
        "outputId": "78b960f7-112e-414a-91ae-3fa70c08ceaa"
      },
      "execution_count": null,
      "outputs": [
        {
          "output_type": "stream",
          "name": "stdout",
          "text": [
            "30\n"
          ]
        }
      ]
    },
    {
      "cell_type": "code",
      "source": [
        "@staticmethod\n",
        "def subtract_numbers(x, y):\n",
        "\n",
        "subtract = subtract_numbers(20, 10)\n",
        "print(subtract)"
      ],
      "metadata": {
        "colab": {
          "base_uri": "https://localhost:8080/"
        },
        "id": "eCz8Edpp5b4t",
        "outputId": "9d154c75-a59e-4636-b26a-282e85ef428d"
      },
      "execution_count": null,
      "outputs": [
        {
          "output_type": "stream",
          "name": "stdout",
          "text": [
            "10\n"
          ]
        }
      ]
    },
    {
      "cell_type": "code",
      "source": [
        "'''8. Implement a class Person with a class method to count the total number of persons created'''\n",
        "\n",
        "class Person:\n",
        "  total_number_of_persons = 0\n",
        "\n",
        "  def __init__ (self, name):\n",
        "    self.name = name\n",
        "    Person.total_number_of_persons +=1\n",
        "\n",
        "  @classmethod\n",
        "  def get_total_number_of_persons(cls):\n",
        "    return cls.total_number_of_persons\n",
        "\n",
        "\n",
        "per1 = Person(\"ahmmed\")\n",
        "per2 = Person(\"king\")\n",
        "per3 = Person(\"khurshi\")\n",
        "\n",
        "print(Person.get_total_number_of_persons())\n",
        "\n"
      ],
      "metadata": {
        "id": "tW3Ie2oM_uRw",
        "colab": {
          "base_uri": "https://localhost:8080/"
        },
        "outputId": "f8c8a84b-79d9-4a8e-e58b-194f2ee005a0"
      },
      "execution_count": null,
      "outputs": [
        {
          "output_type": "stream",
          "name": "stdout",
          "text": [
            "3\n"
          ]
        }
      ]
    },
    {
      "cell_type": "code",
      "source": [
        "'''9 .Write a class Fraction with attributes numerator and denominator. Override the str method to display the\n",
        "fraction as \"numerator/denominator\".'''\n",
        "\n",
        "class Fraction:\n",
        "  def __init__(self, numerator, denominator):\n",
        "    self.numerator = numerator\n",
        "    self.denominator = denominator\n",
        "\n",
        "  def __str__(self):\n",
        "    return f\"{self.numerator}/{self.denominator}\"\n",
        "\n",
        "\n",
        "frac = Fraction(10, 20)\n",
        "print(frac.denominator)\n",
        "\n",
        "print(frac.numerator)\n",
        "\n",
        "print(frac)"
      ],
      "metadata": {
        "colab": {
          "base_uri": "https://localhost:8080/"
        },
        "id": "Q4RFPLDwAHSy",
        "outputId": "570b8de3-f85b-4fb5-c512-cdf33561216c"
      },
      "execution_count": null,
      "outputs": [
        {
          "output_type": "stream",
          "name": "stdout",
          "text": [
            "20\n",
            "10\n",
            "10/20\n"
          ]
        }
      ]
    },
    {
      "cell_type": "code",
      "source": [
        "'''10. Demonstrate operator overloading by creating a class Vector and overriding the add method to add two\n",
        "vectors.'''\n",
        "\n",
        "class Vector:\n",
        "  def __init__(self,x,y):\n",
        "    self.x = x\n",
        "    self.y = y\n",
        "\n",
        "  def add_(self, other):\n",
        "    return Vector(self.x + other.x, self.y + other.y)\n",
        "\n",
        "  def __str__(self):\n",
        "    return f\"{self.x} , {self.y}\"\n",
        "\n",
        "vec1 = Vector(10,40)\n",
        "vec2 = Vector(30,20)\n",
        "\n",
        "print(vec1.add_(vec2))\n"
      ],
      "metadata": {
        "colab": {
          "base_uri": "https://localhost:8080/"
        },
        "id": "9JRsC6X5D6IB",
        "outputId": "6de38df1-d3d7-4f19-bdbc-2b57ea913b7c"
      },
      "execution_count": null,
      "outputs": [
        {
          "output_type": "stream",
          "name": "stdout",
          "text": [
            "40 , 60\n"
          ]
        }
      ]
    },
    {
      "cell_type": "code",
      "source": [
        "'''11. Create a class Person with attributes name and age. Add a method greet() that prints \"Hello, my name is\n",
        "{name} and I am {age} years old.\"'''\n",
        "\n",
        "class Person:\n",
        "    def __init__(self, name, age):\n",
        "        self.name = name\n",
        "        self.age = age\n",
        "\n",
        "    def greet(self):\n",
        "        print(f\"Hello, my name is {self.name} and I am {self.age} years old.\")\n",
        "\n",
        "\n",
        "person1 = Person(\"ahmmd\", 25)\n",
        "person1.greet()\n",
        "\n",
        "\n",
        "\n"
      ],
      "metadata": {
        "colab": {
          "base_uri": "https://localhost:8080/"
        },
        "id": "v4QSHUkxHikQ",
        "outputId": "b2d7a000-f4f0-458f-f0a9-e654a7027162"
      },
      "execution_count": null,
      "outputs": [
        {
          "output_type": "stream",
          "name": "stdout",
          "text": [
            "Hello, my name is ahmmd and I am 25 years old.\n"
          ]
        }
      ]
    },
    {
      "cell_type": "code",
      "source": [
        "'''12. Implement a class Student with attributes name and grades. Create a method average_grade() to compute\n",
        "the average of the grades'''\n",
        "\n",
        "class Student:\n",
        "  def __init__(self, name, grades):\n",
        "    self.name = name\n",
        "    self.grades = grades\n",
        "\n",
        "  def average_grade(self):\n",
        "    return sum(self.grades)/len(self.grades)\n",
        "\n",
        "A = Student(\"ahmmed\",[80,87,77,30])\n",
        "print(A.average_grade())"
      ],
      "metadata": {
        "colab": {
          "base_uri": "https://localhost:8080/"
        },
        "id": "3EGAD7aeLHn1",
        "outputId": "3c6f3911-4c16-451c-8e0a-8b9f54fcdc74"
      },
      "execution_count": null,
      "outputs": [
        {
          "output_type": "stream",
          "name": "stdout",
          "text": [
            "68.5\n"
          ]
        }
      ]
    },
    {
      "cell_type": "code",
      "source": [
        "'''13. Create a class Rectangle with methods set_dimensions() to set the dimensions and area() to calculate the\n",
        "area.'''\n",
        "\n",
        "class Rectangle:\n",
        "  def __init__(self):\n",
        "    self.lenght = 0\n",
        "    self.width = 0\n",
        "\n",
        "  def set_dimensions(self, lenght, width):\n",
        "    self.lenght = lenght\n",
        "    self.width = width\n",
        "\n",
        "  def area(self):\n",
        "    return self.lenght * self.width\n",
        "\n",
        "\n",
        "rec1 = Rectangle()\n",
        "rec.set_dimensions(10,20)\n",
        "print(rec.area())\n",
        "\n",
        "rec2 = Rectangle()\n",
        "rec2.set_dimensions(20,30)\n",
        "print(rec2.area())"
      ],
      "metadata": {
        "colab": {
          "base_uri": "https://localhost:8080/"
        },
        "id": "lN1z3g78NQbg",
        "outputId": "c18415a0-c1f3-4772-f898-4e1a38eeeea1"
      },
      "execution_count": null,
      "outputs": [
        {
          "output_type": "stream",
          "name": "stdout",
          "text": [
            "200\n",
            "600\n"
          ]
        }
      ]
    },
    {
      "cell_type": "code",
      "source": [
        "'''14. Create a class Employee with a method calculate_salary() that computes the salary based on hours worked\n",
        "and hourly rate. Create a derived class Manager that adds a bonus to the salary.'''\n",
        "\n",
        "class Employee:\n",
        "  def __init__(self, hours_worked=0, hourly_rate=0):\n",
        "    self.hours_worked = hours_worked\n",
        "    self.hourly_rate = hourly_rate\n",
        "\n",
        "  def calculate_salary(self) :\n",
        "    return self.hours_worked * self.hourly_rate\n",
        "\n",
        "class Manager(Employee):\n",
        "  def __init__(self, hours_worked=0, hourly_rate=0, bonus=0):\n",
        "    super().__init__(hours_worked, hourly_rate)\n",
        "    self.bouns = 0\n",
        "\n",
        "  def calculate_salary(self):\n",
        "    base_salary = super().calculate_salary()\n",
        "    return base_salary + self.bouns\n",
        "\n",
        "emp1 = Employee(40, 1600)\n",
        "print(emp1.calculate_salary())\n",
        "\n",
        "man1 = Manager(40, 1800, 500)\n",
        "man1.bouns = 5000\n",
        "print(man1.calculate_salary())\n",
        "\n"
      ],
      "metadata": {
        "colab": {
          "base_uri": "https://localhost:8080/"
        },
        "id": "CN-qJ0v-Prhx",
        "outputId": "06690a60-3934-4cc4-bc5c-91c2b294cc0b"
      },
      "execution_count": null,
      "outputs": [
        {
          "output_type": "stream",
          "name": "stdout",
          "text": [
            "64000\n",
            "77000\n"
          ]
        }
      ]
    },
    {
      "cell_type": "code",
      "source": [
        "'''15. Create a class Product with attributes name, price, and quantity. Implement a method total_price() that\n",
        "calculates the total price of the product.'''\n",
        "\n",
        "class Product:\n",
        "  def __init__(self, name, price, quantity):\n",
        "    self.name = name\n",
        "    self.price = price\n",
        "    self.quantity = quantity\n",
        "\n",
        "  def total_price(self):\n",
        "    return self.price * self.quantity\n",
        "\n",
        "prod1 = Product(\"santoor\", 100, 4)\n",
        "prod1.total_price()\n"
      ],
      "metadata": {
        "colab": {
          "base_uri": "https://localhost:8080/"
        },
        "id": "kSxY49chXNol",
        "outputId": "18b79654-f34e-461b-f923-5b2c4fbca9be"
      },
      "execution_count": null,
      "outputs": [
        {
          "output_type": "execute_result",
          "data": {
            "text/plain": [
              "400"
            ]
          },
          "metadata": {},
          "execution_count": 7
        }
      ]
    },
    {
      "cell_type": "code",
      "source": [
        "prod2 = Product(\"yappie\", 50, 12)\n",
        "prod2.total_price()"
      ],
      "metadata": {
        "colab": {
          "base_uri": "https://localhost:8080/"
        },
        "id": "qW9EoS_IYg-8",
        "outputId": "8b826b51-ca83-417c-9f61-63f153987106"
      },
      "execution_count": null,
      "outputs": [
        {
          "output_type": "execute_result",
          "data": {
            "text/plain": [
              "600"
            ]
          },
          "metadata": {},
          "execution_count": 8
        }
      ]
    },
    {
      "cell_type": "code",
      "source": [
        "'''16. Create a class Animal with an abstract method sound(). Create two derived classes Cow and Sheep that\n",
        "implement the sound() method.'''\n",
        "from abc import ABC, abstractmethod\n",
        "class Animal(ABC):\n",
        "  @abstractmethod\n",
        "  def sound(self):\n",
        "    pass\n",
        "\n",
        "class Cow(Animal):\n",
        "  def sound(self):\n",
        "    return \"ammba\"\n",
        "\n",
        "class Sheep(Animal):\n",
        "  def sound(self):\n",
        "    return \"mahaanaa\"\n",
        "\n",
        "cow = Cow()\n",
        "sheep = Sheep()\n",
        "\n",
        "print(cow.sound())\n",
        "print(sheep.sound())\n"
      ],
      "metadata": {
        "colab": {
          "base_uri": "https://localhost:8080/"
        },
        "id": "LlFKST8RYr9W",
        "outputId": "5fd18490-73de-4018-a5fb-32baea312317"
      },
      "execution_count": null,
      "outputs": [
        {
          "output_type": "stream",
          "name": "stdout",
          "text": [
            "ammba\n",
            "mahaanaa\n"
          ]
        }
      ]
    },
    {
      "cell_type": "code",
      "source": [
        "'''17. Create a class Book with attributes title, author, and year_published. Add a method get_book_info() that\n",
        "returns a formatted string with the book's details'''\n",
        "\n",
        "class Book:\n",
        "  def __init__ (self, title, author, year_published):\n",
        "    self.title = title\n",
        "    self.author = author\n",
        "    self.year_published = year_published\n",
        "\n",
        "  def get_book_info(self):\n",
        "    return f\"Title = {self.title} \\n Author = {self.author} \\n Year_published = {self.year_published}\"\n",
        "\n",
        "book = Book (\"rich dad poor dad\", \"Robert Kiyosaki\", 1997)\n",
        "print(book.get_book_info())"
      ],
      "metadata": {
        "colab": {
          "base_uri": "https://localhost:8080/"
        },
        "id": "RioJ04SofgJn",
        "outputId": "63f709cb-224a-4c19-bfda-fcd82a004bb7"
      },
      "execution_count": null,
      "outputs": [
        {
          "output_type": "stream",
          "name": "stdout",
          "text": [
            "Title = rich dad poor dad \n",
            " Author = Robert Kiyosaki \n",
            " Year_published = 1997\n"
          ]
        }
      ]
    },
    {
      "cell_type": "code",
      "source": [
        "'''18. Create a class House with attributes address and price. Create a derived class Mansion that adds an\n",
        "attribute number_of_rooms.'''\n",
        "\n",
        "class House:\n",
        "  def __init__(self, address, price):\n",
        "    self.address = address\n",
        "    self.price = price\n",
        "\n",
        "class Mansion(House):\n",
        "  def __init__ (self, address, price, number_of_rooms):\n",
        "    super().__init__(address, price)\n",
        "    self.number_of_rooms = number_of_rooms\n",
        "\n",
        "  def get_info(self):\n",
        "    return f\"Address :{self.address} \\n Price : {self.price} \\n Number_of_rooms : {self.number_of_rooms}\"\n",
        "\n",
        "mansion = Mansion(\"1-34/3 khachiguda \", 1180000, 4)\n",
        "print(mansion.get_info())\n"
      ],
      "metadata": {
        "colab": {
          "base_uri": "https://localhost:8080/"
        },
        "id": "JFhTI074ff0_",
        "outputId": "72837d12-0a8d-4b4e-d0bf-28273110ac67"
      },
      "execution_count": null,
      "outputs": [
        {
          "output_type": "stream",
          "name": "stdout",
          "text": [
            "Address :1-34/3 khachiguda  \n",
            " Price : 1180000 \n",
            " Number_of_rooms : 4\n"
          ]
        }
      ]
    }
  ]
}